{
 "cells": [
  {
   "cell_type": "markdown",
   "metadata": {
    "_uuid": "c8fc6c3e84f282d0e6f664caf9848297b6c62a16"
   },
   "source": [
    "### U-net with simple Resnet Blocks\n",
    "#### update log\n",
    "1. Correct the errors to in function iou_metric,  use \"my_iou_metric\" to moniter the training\n",
    "2. Use image size 101 x 101, no resizing\n",
    "3. Last layer dropout reduced by half\n",
    "4. replace conv2D with 2 basic resnet blocks in each level of U-net\n",
    "5.  Use faster rle_encode (> 10 times fater than RLenc ) from (https://www.kaggle.com/lpachuong/apply-crf-unet-bn-diceloss)\n",
    "6. set  random_state= 1234 \n",
    "\n",
    "Reference kernels:\n",
    "\n",
    "https://www.kaggle.com/phoenigs/u-net-dropout-augmentation-stratification\n",
    "\n",
    "https://www.kaggle.com/tgibbons/u-net-without-resizing-images\n",
    "\n",
    "https://www.kaggle.com/lpachuong/apply-crf-unet-bn-diceloss\n",
    "\n",
    "The results seems not reproducible,  sometimes good (best around IOU0.79 ), sometimes  not as good!\n",
    "Any suggestions to improve the results?"
   ]
  },
  {
   "cell_type": "code",
   "execution_count": null,
   "metadata": {
    "_cell_guid": "b1076dfc-b9ad-4769-8c92-a6c4dae69d19",
    "_uuid": "8f2839f25d086af736a60e9eeb907d3b93b6e0e5"
   },
   "outputs": [],
   "source": [
    "import os\n",
    "import sys\n",
    "import random\n",
    "\n",
    "import pandas as pd\n",
    "import numpy as np\n",
    "import matplotlib.pyplot as plt\n",
    "plt.style.use('seaborn-white')\n",
    "import seaborn as sns\n",
    "sns.set_style(\"white\")\n",
    "\n",
    "%matplotlib inline\n",
    "\n",
    "# import cv2\n",
    "from sklearn.model_selection import train_test_split\n",
    "\n",
    "from tqdm import tqdm_notebook, tnrange\n",
    "from itertools import chain\n",
    "from skimage.io import imread, imshow, concatenate_images\n",
    "from skimage.transform import resize\n",
    "from skimage.morphology import label\n",
    "\n",
    "from keras.models import Model, load_model\n",
    "from keras.layers import Input,Dropout,BatchNormalization,Activation,Add\n",
    "from keras.layers.core import Lambda\n",
    "from keras.layers.convolutional import Conv2D, Conv2DTranspose\n",
    "from keras.layers.pooling import MaxPooling2D\n",
    "from keras.layers.merge import concatenate\n",
    "from keras.callbacks import EarlyStopping, ModelCheckpoint, ReduceLROnPlateau\n",
    "from keras import backend as K\n",
    "\n",
    "import tensorflow as tf\n",
    "\n",
    "from keras.preprocessing.image import ImageDataGenerator, array_to_img, img_to_array, load_img#,save_img"
   ]
  },
  {
   "cell_type": "code",
   "execution_count": null,
   "metadata": {},
   "outputs": [],
   "source": [
    "import sys\n",
    "sys.path.append('../../LovaszSoftmax/tensorflow')\n",
    "import lovasz_losses_tf as L_loss"
   ]
  },
  {
   "cell_type": "markdown",
   "metadata": {},
   "source": [
    "### Reproducability setup:"
   ]
  },
  {
   "cell_type": "code",
   "execution_count": null,
   "metadata": {},
   "outputs": [],
   "source": [
    "import random as rn\n",
    "\n",
    "kSeed = 241075\n",
    "\n",
    "import os\n",
    "os.environ['PYTHONHASHSEED'] = '0'\n",
    "\n",
    "np.random.seed(kSeed)\n",
    "rn.seed(kSeed)\n",
    "\n",
    "#session_conf = tf.ConfigProto(intra_op_parallelism_threads=1, inter_op_parallelism_threads=1)\n",
    "tf.set_random_seed(kSeed)\n",
    "#sess = tf.Session(graph=tf.get_default_graph(), config=session_conf)\n",
    "sess = tf.Session(graph=tf.get_default_graph())\n",
    "K.set_session(sess)"
   ]
  },
  {
   "cell_type": "code",
   "execution_count": null,
   "metadata": {
    "_cell_guid": "79c7e3d0-c299-4dcb-8224-4455121ee9b0",
    "_uuid": "d629ff2d2480ee46fbb7e2d37f6b5fab8052498a"
   },
   "outputs": [],
   "source": [
    "# Set some parameters\n",
    "img_size_ori = 101\n",
    "img_size_target = 101\n",
    "im_width = 101\n",
    "im_height = 101\n",
    "im_chan = 1\n",
    "basicpath = '../../../../Kaggle_Data/Salt/'\n",
    "path_train = basicpath + 'train/'\n",
    "path_test = basicpath + 'test/'\n",
    "\n",
    "path_train_images = path_train + 'images/'\n",
    "path_train_masks = path_train + 'masks/'\n",
    "path_test_images = path_test + 'images/'\n",
    "\n"
   ]
  },
  {
   "cell_type": "code",
   "execution_count": null,
   "metadata": {
    "_uuid": "1a64babef03b9a0dbc94387a1dad54971c3e028d"
   },
   "outputs": [],
   "source": [
    "# Loading of training/testing ids and depths\n",
    "\n",
    "train_df = pd.read_csv(basicpath+\"/train.csv\", index_col=\"id\", usecols=[0])\n",
    "depths_df = pd.read_csv(basicpath+\"/depths.csv\", index_col=\"id\")\n",
    "train_df = train_df.join(depths_df)\n",
    "test_df = depths_df[~depths_df.index.isin(train_df.index)]\n",
    "\n",
    "len(train_df)"
   ]
  },
  {
   "cell_type": "code",
   "execution_count": null,
   "metadata": {
    "_uuid": "80c3768717007fb5f087d3e01619f1a9f9a3beac"
   },
   "outputs": [],
   "source": [
    "train_df[\"images\"] = [np.array(load_img(path_train_images+\"{}.png\".format(idx), grayscale=True)) / 255 for idx in tqdm_notebook(train_df.index)]"
   ]
  },
  {
   "cell_type": "code",
   "execution_count": null,
   "metadata": {
    "_uuid": "9f55103f7daad6f03ec874c643077fe686c31bee"
   },
   "outputs": [],
   "source": [
    "train_df[\"masks\"] = [np.array(load_img(path_train_masks+\"{}.png\".format(idx), grayscale=True)) / 255 for idx in tqdm_notebook(train_df.index)]"
   ]
  },
  {
   "cell_type": "code",
   "execution_count": null,
   "metadata": {
    "_uuid": "010066dd50ef4fdfa7dabe2c946fd7491f9556fd"
   },
   "outputs": [],
   "source": [
    "train_df[\"coverage\"] = train_df.masks.map(np.sum) / pow(img_size_ori, 2)\n",
    "\n",
    "def cov_to_class(val):    \n",
    "    for i in range(0, 11):\n",
    "        if val * 10 <= i :\n",
    "            return i\n",
    "        \n",
    "train_df[\"coverage_class\"] = train_df.coverage.map(cov_to_class)\n"
   ]
  },
  {
   "cell_type": "code",
   "execution_count": null,
   "metadata": {
    "_uuid": "2ad5ac1576277fc54d768933c36efd1f9ff01acd"
   },
   "outputs": [],
   "source": [
    "fig, axs = plt.subplots(1, 2, figsize=(15,5))\n",
    "sns.distplot(train_df.coverage, kde=False, ax=axs[0])\n",
    "sns.distplot(train_df.coverage_class, bins=10, kde=False, ax=axs[1])\n",
    "plt.suptitle(\"Salt coverage\")\n",
    "axs[0].set_xlabel(\"Coverage\")\n",
    "axs[1].set_xlabel(\"Coverage class\")"
   ]
  },
  {
   "cell_type": "code",
   "execution_count": null,
   "metadata": {
    "_uuid": "9f34c4263989a3d95af1e5922c1b7d2126655610"
   },
   "outputs": [],
   "source": [
    "#Plotting the depth distributions¶\n",
    "\n",
    "sns.distplot(train_df.z, label=\"Train\")\n",
    "sns.distplot(test_df.z, label=\"Test\")\n",
    "plt.legend()\n",
    "plt.title(\"Depth distribution\")"
   ]
  },
  {
   "cell_type": "code",
   "execution_count": null,
   "metadata": {
    "_uuid": "51981795f0dd6b8ca7abe4db367f48313b63811e"
   },
   "outputs": [],
   "source": [
    "# Create train/validation split stratified by salt coverage\n",
    "\n",
    "ids_train, ids_valid, x_train, x_valid, y_train, y_valid, cov_train, cov_test, depth_train, depth_test = train_test_split(\n",
    "    train_df.index.values,\n",
    "    np.array(train_df.images.tolist()).reshape(-1, img_size_target, img_size_target, 1), \n",
    "    np.array(train_df.masks.tolist()).reshape(-1, img_size_target, img_size_target, 1), \n",
    "    train_df.coverage.values,\n",
    "    train_df.z.values,\n",
    "    test_size=0.2, stratify=train_df.coverage_class, random_state= 1234)"
   ]
  },
  {
   "cell_type": "code",
   "execution_count": null,
   "metadata": {
    "_uuid": "7fb577cdf27f365d4a912728c2a7654d0e60fac8"
   },
   "outputs": [],
   "source": [
    "ACTIVATION = \"relu\"\n",
    "\n",
    "def convolution_block(x, filters, size, strides=(1,1), padding='same', activation=True):\n",
    "    x = Conv2D(filters, size, strides=strides, padding=padding)(x)\n",
    "    x = BatchNormalization()(x)\n",
    "    if activation == True:\n",
    "        x = Activation(ACTIVATION)(x)\n",
    "    return x\n",
    "\n",
    "def residual_block(blockInput, num_filters=16):\n",
    "    x = Activation(ACTIVATION)(blockInput)\n",
    "    x = BatchNormalization()(x)\n",
    "    x = convolution_block(x, num_filters, (3,3) )\n",
    "    x = convolution_block(x, num_filters, (3,3), activation=False)\n",
    "    x = Add()([x, blockInput])\n",
    "    return x\n"
   ]
  },
  {
   "cell_type": "code",
   "execution_count": null,
   "metadata": {
    "_uuid": "02967d71ee7f936254ab54acf2aa7c2e038a2b21"
   },
   "outputs": [],
   "source": [
    "# Build model\n",
    "def build_model(input_layer, start_neurons, DropoutRatio = 0.5):\n",
    "    # 101 -> 50\n",
    "    conv1 = Conv2D(start_neurons * 1, (3, 3), activation=None, padding=\"same\")(input_layer)\n",
    "    conv1 = residual_block(conv1,start_neurons * 1)\n",
    "    conv1 = residual_block(conv1,start_neurons * 1)\n",
    "    conv1 = Activation(ACTIVATION)(conv1)\n",
    "    pool1 = MaxPooling2D((2, 2))(conv1)\n",
    "    pool1 = Dropout(DropoutRatio/2)(pool1)\n",
    "\n",
    "    # 50 -> 25\n",
    "    conv2 = Conv2D(start_neurons * 2, (3, 3), activation=None, padding=\"same\")(pool1)\n",
    "    conv2 = residual_block(conv2,start_neurons * 2)\n",
    "    conv2 = residual_block(conv2,start_neurons * 2)\n",
    "    conv2 = Activation(ACTIVATION)(conv2)\n",
    "    pool2 = MaxPooling2D((2, 2))(conv2)\n",
    "    pool2 = Dropout(DropoutRatio)(pool2)\n",
    "\n",
    "    # 25 -> 12\n",
    "    conv3 = Conv2D(start_neurons * 4, (3, 3), activation=None, padding=\"same\")(pool2)\n",
    "    conv3 = residual_block(conv3,start_neurons * 4)\n",
    "    conv3 = residual_block(conv3,start_neurons * 4)\n",
    "    conv3 = Activation(ACTIVATION)(conv3)\n",
    "    pool3 = MaxPooling2D((2, 2))(conv3)\n",
    "    pool3 = Dropout(DropoutRatio)(pool3)\n",
    "\n",
    "    # 12 -> 6\n",
    "    conv4 = Conv2D(start_neurons * 8, (3, 3), activation=None, padding=\"same\")(pool3)\n",
    "    conv4 = residual_block(conv4,start_neurons * 8)\n",
    "    conv4 = residual_block(conv4,start_neurons * 8)\n",
    "    conv4 = Activation(ACTIVATION)(conv4)\n",
    "    pool4 = MaxPooling2D((2, 2))(conv4)\n",
    "    pool4 = Dropout(DropoutRatio)(pool4)\n",
    "\n",
    "    # Middle\n",
    "    convm = Conv2D(start_neurons * 16, (3, 3), activation=None, padding=\"same\")(pool4)\n",
    "    convm = residual_block(convm,start_neurons * 16)\n",
    "    convm = residual_block(convm,start_neurons * 16)\n",
    "    convm = Activation(ACTIVATION)(convm)\n",
    "    \n",
    "    # 6 -> 12\n",
    "    deconv4 = Conv2DTranspose(start_neurons * 8, (3, 3), strides=(2, 2), padding=\"same\")(convm)\n",
    "    uconv4 = concatenate([deconv4, conv4])\n",
    "    uconv4 = Dropout(DropoutRatio)(uconv4)\n",
    "    \n",
    "    uconv4 = Conv2D(start_neurons * 8, (3, 3), activation=None, padding=\"same\")(uconv4)\n",
    "    uconv4 = residual_block(uconv4,start_neurons * 8)\n",
    "    uconv4 = residual_block(uconv4,start_neurons * 8)\n",
    "    uconv4 = Activation(ACTIVATION)(uconv4)\n",
    "    \n",
    "    # 12 -> 25\n",
    "    #deconv3 = Conv2DTranspose(start_neurons * 4, (3, 3), strides=(2, 2), padding=\"same\")(uconv4)\n",
    "    deconv3 = Conv2DTranspose(start_neurons * 4, (3, 3), strides=(2, 2), padding=\"valid\")(uconv4)\n",
    "    uconv3 = concatenate([deconv3, conv3])    \n",
    "    uconv3 = Dropout(DropoutRatio)(uconv3)\n",
    "    \n",
    "    uconv3 = Conv2D(start_neurons * 4, (3, 3), activation=None, padding=\"same\")(uconv3)\n",
    "    uconv3 = residual_block(uconv3,start_neurons * 4)\n",
    "    uconv3 = residual_block(uconv3,start_neurons * 4)\n",
    "    uconv3 = Activation(ACTIVATION)(uconv3)\n",
    "\n",
    "    # 25 -> 50\n",
    "    deconv2 = Conv2DTranspose(start_neurons * 2, (3, 3), strides=(2, 2), padding=\"same\")(uconv3)\n",
    "    uconv2 = concatenate([deconv2, conv2])\n",
    "        \n",
    "    uconv2 = Dropout(DropoutRatio)(uconv2)\n",
    "    uconv2 = Conv2D(start_neurons * 2, (3, 3), activation=None, padding=\"same\")(uconv2)\n",
    "    uconv2 = residual_block(uconv2,start_neurons * 2)\n",
    "    uconv2 = residual_block(uconv2,start_neurons * 2)\n",
    "    uconv2 = Activation(ACTIVATION)(uconv2)\n",
    "    \n",
    "    # 50 -> 101\n",
    "    #deconv1 = Conv2DTranspose(start_neurons * 1, (3, 3), strides=(2, 2), padding=\"same\")(uconv2)\n",
    "    deconv1 = Conv2DTranspose(start_neurons * 1, (3, 3), strides=(2, 2), padding=\"valid\")(uconv2)\n",
    "    uconv1 = concatenate([deconv1, conv1])\n",
    "    \n",
    "    uconv1 = Dropout(DropoutRatio)(uconv1)\n",
    "    uconv1 = Conv2D(start_neurons * 1, (3, 3), activation=None, padding=\"same\")(uconv1)\n",
    "    uconv1 = residual_block(uconv1,start_neurons * 1)\n",
    "    uconv1 = residual_block(uconv1,start_neurons * 1)\n",
    "    uconv1 = Activation(ACTIVATION)(uconv1)\n",
    "    \n",
    "    uconv1 = Dropout(DropoutRatio/2)(uconv1)\n",
    "    output_layer = Conv2D(1, (1,1), padding=\"same\", activation=\"sigmoid\")(uconv1)\n",
    "    \n",
    "    return output_layer"
   ]
  },
  {
   "cell_type": "code",
   "execution_count": null,
   "metadata": {
    "_uuid": "b9d158f567c829c55139acc9e79a41761d911726"
   },
   "outputs": [],
   "source": [
    "thresholds = np.array([0.5, 0.55, 0.6, 0.65, 0.7, 0.75, 0.8, 0.85, 0.9, 0.95])\n",
    "\n",
    "def iou(img_true, img_pred):\n",
    "    i = np.sum((img_true*img_pred) >0)\n",
    "    u = np.sum((img_true + img_pred) >0)\n",
    "    if u == 0:\n",
    "        return u\n",
    "    return i/u\n",
    "\n",
    "def iou_metric(imgs_true, imgs_pred):\n",
    "    num_images = len(imgs_true)\n",
    "    scores = np.zeros(num_images)\n",
    "    \n",
    "    for i in range(num_images):\n",
    "        if imgs_true[i].sum() == imgs_pred[i].sum() == 0:\n",
    "            scores[i] = 1\n",
    "        else:\n",
    "            scores[i] = (thresholds <= iou(imgs_true[i], imgs_pred[i])).mean()\n",
    "            \n",
    "    return scores.mean()"
   ]
  },
  {
   "cell_type": "code",
   "execution_count": null,
   "metadata": {},
   "outputs": [],
   "source": [
    "def iou_metric_batch(y_true_in, y_pred_in):\n",
    "    y_pred_in = y_pred_in > 0.5 # added by sgx 20180728\n",
    "    batch_size = y_true_in.shape[0]\n",
    "    metric = []\n",
    "    for batch in range(batch_size):\n",
    "        value = iou_metric(y_true_in[batch], y_pred_in[batch])\n",
    "        metric.append(value)\n",
    "    #print(\"metric = \",metric)\n",
    "    return np.mean(metric)\n",
    "\n",
    "def my_iou_metric(label, pred):\n",
    "    metric_value = tf.py_func(iou_metric_batch, [label, pred], tf.float64)\n",
    "    return metric_value\n"
   ]
  },
  {
   "cell_type": "code",
   "execution_count": null,
   "metadata": {
    "_uuid": "072ab621d38cc93d26998f391357cb6efc791600"
   },
   "outputs": [],
   "source": [
    "#Data augmentation\n",
    "x_train = np.append(x_train, [np.fliplr(x) for x in x_train], axis=0)\n",
    "y_train = np.append(y_train, [np.fliplr(x) for x in y_train], axis=0)\n",
    "print(x_train.shape)\n",
    "print(x_valid.shape)"
   ]
  },
  {
   "cell_type": "code",
   "execution_count": null,
   "metadata": {},
   "outputs": [],
   "source": [
    "def lavazs_loss(labels, scores): # Keras and TF has reversed order of args\n",
    "    return L_loss.lovasz_hinge(2*scores-1, labels, ignore=255, per_image=True)"
   ]
  },
  {
   "cell_type": "code",
   "execution_count": null,
   "metadata": {
    "_uuid": "30622932f68888e895a9b8cac91810a1bb3c5e75"
   },
   "outputs": [],
   "source": [
    "# model\n",
    "input_layer = Input((img_size_target, img_size_target, 1))\n",
    "output_layer = build_model(input_layer, 16,0.5)\n",
    "\n",
    "model = Model(input_layer, output_layer)\n",
    "model.compile(loss=\"binary_crossentropy\", optimizer=\"adam\", metrics=[\"acc\", my_iou_metric])"
   ]
  },
  {
   "cell_type": "code",
   "execution_count": null,
   "metadata": {},
   "outputs": [],
   "source": [
    "model.load_weights('./unet_best  18.09.04.23.20.model')"
   ]
  },
  {
   "cell_type": "code",
   "execution_count": 21,
   "metadata": {
    "_uuid": "41699081be465c14e193ffad4fd00bd56840f156",
    "scrolled": false
   },
   "outputs": [
    {
     "name": "stdout",
     "output_type": "stream",
     "text": [
      "Train on 6400 samples, validate on 800 samples\n",
      "Epoch 1/200\n",
      " - 52s - loss: 0.1239 - acc: 0.9538 - my_iou_metric: 0.8566 - val_loss: 0.1557 - val_acc: 0.9418 - val_my_iou_metric: 0.8414\n",
      "\n",
      "Epoch 00001: val_my_iou_metric improved from -inf to 0.84138, saving model to ./unet_best1.model\n",
      "Epoch 2/200\n",
      " - 40s - loss: 0.1178 - acc: 0.9560 - my_iou_metric: 0.8616 - val_loss: 0.1722 - val_acc: 0.9424 - val_my_iou_metric: 0.8456\n",
      "\n",
      "Epoch 00002: val_my_iou_metric improved from 0.84138 to 0.84556, saving model to ./unet_best1.model\n",
      "Epoch 3/200\n",
      " - 40s - loss: 0.1160 - acc: 0.9561 - my_iou_metric: 0.8609 - val_loss: 0.1418 - val_acc: 0.9497 - val_my_iou_metric: 0.8532\n",
      "\n",
      "Epoch 00003: val_my_iou_metric improved from 0.84556 to 0.85316, saving model to ./unet_best1.model\n",
      "Epoch 4/200\n",
      " - 40s - loss: 0.1192 - acc: 0.9551 - my_iou_metric: 0.8578 - val_loss: 0.1465 - val_acc: 0.9469 - val_my_iou_metric: 0.8502\n",
      "\n",
      "Epoch 00004: val_my_iou_metric did not improve\n",
      "Epoch 5/200\n",
      " - 40s - loss: 0.1127 - acc: 0.9574 - my_iou_metric: 0.8643 - val_loss: 0.1298 - val_acc: 0.9529 - val_my_iou_metric: 0.8601\n",
      "\n",
      "Epoch 00005: val_my_iou_metric improved from 0.85316 to 0.86007, saving model to ./unet_best1.model\n",
      "Epoch 6/200\n",
      " - 40s - loss: 0.1142 - acc: 0.9573 - my_iou_metric: 0.8629 - val_loss: 0.1947 - val_acc: 0.9461 - val_my_iou_metric: 0.8516\n",
      "\n",
      "Epoch 00006: val_my_iou_metric did not improve\n",
      "Epoch 7/200\n",
      " - 40s - loss: 0.1138 - acc: 0.9577 - my_iou_metric: 0.8636 - val_loss: 0.1514 - val_acc: 0.9438 - val_my_iou_metric: 0.8400\n",
      "\n",
      "Epoch 00007: val_my_iou_metric did not improve\n",
      "Epoch 8/200\n",
      " - 41s - loss: 0.1146 - acc: 0.9573 - my_iou_metric: 0.8610 - val_loss: 0.1348 - val_acc: 0.9475 - val_my_iou_metric: 0.8536\n",
      "\n",
      "Epoch 00008: val_my_iou_metric did not improve\n",
      "Epoch 9/200\n",
      " - 41s - loss: 0.1107 - acc: 0.9580 - my_iou_metric: 0.8648 - val_loss: 0.1773 - val_acc: 0.9436 - val_my_iou_metric: 0.8408\n",
      "\n",
      "Epoch 00009: val_my_iou_metric did not improve\n",
      "Epoch 10/200\n",
      " - 41s - loss: 0.1117 - acc: 0.9585 - my_iou_metric: 0.8653 - val_loss: 0.1310 - val_acc: 0.9508 - val_my_iou_metric: 0.8512\n",
      "\n",
      "Epoch 00010: val_my_iou_metric did not improve\n",
      "Epoch 11/200\n",
      " - 40s - loss: 0.1068 - acc: 0.9593 - my_iou_metric: 0.8666 - val_loss: 0.1367 - val_acc: 0.9470 - val_my_iou_metric: 0.8501\n",
      "\n",
      "Epoch 00011: val_my_iou_metric did not improve\n",
      "Epoch 12/200\n",
      " - 41s - loss: 0.1059 - acc: 0.9604 - my_iou_metric: 0.8695 - val_loss: 0.1878 - val_acc: 0.9430 - val_my_iou_metric: 0.8494\n",
      "\n",
      "Epoch 00012: val_my_iou_metric did not improve\n",
      "Epoch 13/200\n",
      " - 41s - loss: 0.1038 - acc: 0.9611 - my_iou_metric: 0.8708 - val_loss: 0.1488 - val_acc: 0.9454 - val_my_iou_metric: 0.8432\n",
      "\n",
      "Epoch 00013: val_my_iou_metric did not improve\n",
      "Epoch 14/200\n",
      " - 41s - loss: 0.1063 - acc: 0.9595 - my_iou_metric: 0.8685 - val_loss: 0.1393 - val_acc: 0.9518 - val_my_iou_metric: 0.8567\n",
      "\n",
      "Epoch 00014: val_my_iou_metric did not improve\n",
      "Epoch 15/200\n",
      " - 41s - loss: 0.1038 - acc: 0.9617 - my_iou_metric: 0.8712 - val_loss: 0.1437 - val_acc: 0.9524 - val_my_iou_metric: 0.8607\n",
      "\n",
      "Epoch 00015: val_my_iou_metric improved from 0.86007 to 0.86067, saving model to ./unet_best1.model\n",
      "Epoch 16/200\n",
      " - 41s - loss: 0.1031 - acc: 0.9624 - my_iou_metric: 0.8718 - val_loss: 0.1510 - val_acc: 0.9495 - val_my_iou_metric: 0.8602\n",
      "\n",
      "Epoch 00016: val_my_iou_metric did not improve\n",
      "Epoch 17/200\n",
      " - 41s - loss: 0.1070 - acc: 0.9598 - my_iou_metric: 0.8686 - val_loss: 0.1490 - val_acc: 0.9467 - val_my_iou_metric: 0.8478\n",
      "\n",
      "Epoch 00017: val_my_iou_metric did not improve\n",
      "Epoch 18/200\n",
      " - 41s - loss: 0.1098 - acc: 0.9590 - my_iou_metric: 0.8653 - val_loss: 0.1609 - val_acc: 0.9509 - val_my_iou_metric: 0.8603\n",
      "\n",
      "Epoch 00018: val_my_iou_metric did not improve\n",
      "Epoch 19/200\n",
      " - 41s - loss: 0.1115 - acc: 0.9585 - my_iou_metric: 0.8638 - val_loss: 0.4576 - val_acc: 0.8802 - val_my_iou_metric: 0.7444\n",
      "\n",
      "Epoch 00019: val_my_iou_metric did not improve\n",
      "Epoch 20/200\n",
      " - 41s - loss: 0.1128 - acc: 0.9583 - my_iou_metric: 0.8662 - val_loss: 0.1214 - val_acc: 0.9529 - val_my_iou_metric: 0.8673\n",
      "\n",
      "Epoch 00020: val_my_iou_metric improved from 0.86067 to 0.86726, saving model to ./unet_best1.model\n",
      "Epoch 21/200\n",
      " - 41s - loss: 0.1005 - acc: 0.9627 - my_iou_metric: 0.8723 - val_loss: 0.1318 - val_acc: 0.9497 - val_my_iou_metric: 0.8581\n",
      "\n",
      "Epoch 00021: val_my_iou_metric did not improve\n",
      "Epoch 22/200\n",
      " - 41s - loss: 0.0986 - acc: 0.9631 - my_iou_metric: 0.8773 - val_loss: 0.1596 - val_acc: 0.9445 - val_my_iou_metric: 0.8419\n",
      "\n",
      "Epoch 00022: val_my_iou_metric did not improve\n",
      "Epoch 23/200\n",
      " - 41s - loss: 0.1014 - acc: 0.9620 - my_iou_metric: 0.8718 - val_loss: 0.1385 - val_acc: 0.9481 - val_my_iou_metric: 0.8551\n",
      "\n",
      "Epoch 00023: val_my_iou_metric did not improve\n",
      "Epoch 24/200\n",
      " - 41s - loss: 0.0971 - acc: 0.9634 - my_iou_metric: 0.8757 - val_loss: 0.1975 - val_acc: 0.9340 - val_my_iou_metric: 0.8266\n",
      "\n",
      "Epoch 00024: val_my_iou_metric did not improve\n",
      "Epoch 25/200\n",
      " - 41s - loss: 0.0986 - acc: 0.9633 - my_iou_metric: 0.8749 - val_loss: 0.1463 - val_acc: 0.9455 - val_my_iou_metric: 0.8467\n",
      "\n",
      "Epoch 00025: val_my_iou_metric did not improve\n",
      "Epoch 26/200\n",
      " - 41s - loss: 0.0931 - acc: 0.9646 - my_iou_metric: 0.8766 - val_loss: 0.1792 - val_acc: 0.9384 - val_my_iou_metric: 0.8461\n",
      "\n",
      "Epoch 00026: val_my_iou_metric did not improve\n",
      "Epoch 27/200\n",
      " - 41s - loss: 0.0969 - acc: 0.9645 - my_iou_metric: 0.8780 - val_loss: 0.1553 - val_acc: 0.9498 - val_my_iou_metric: 0.8569\n",
      "\n",
      "Epoch 00027: val_my_iou_metric did not improve\n",
      "Epoch 28/200\n",
      " - 41s - loss: 0.0940 - acc: 0.9648 - my_iou_metric: 0.8787 - val_loss: 0.1876 - val_acc: 0.9412 - val_my_iou_metric: 0.8436\n",
      "\n",
      "Epoch 00028: val_my_iou_metric did not improve\n",
      "Epoch 29/200\n",
      " - 41s - loss: 0.0978 - acc: 0.9649 - my_iou_metric: 0.8757 - val_loss: 0.1277 - val_acc: 0.9540 - val_my_iou_metric: 0.8674\n",
      "\n",
      "Epoch 00029: val_my_iou_metric improved from 0.86726 to 0.86736, saving model to ./unet_best1.model\n",
      "Epoch 30/200\n",
      " - 41s - loss: 0.1005 - acc: 0.9625 - my_iou_metric: 0.8735 - val_loss: 0.1846 - val_acc: 0.9290 - val_my_iou_metric: 0.8103\n",
      "\n",
      "Epoch 00030: val_my_iou_metric did not improve\n",
      "Epoch 31/200\n",
      " - 41s - loss: 0.0953 - acc: 0.9645 - my_iou_metric: 0.8769 - val_loss: 0.1529 - val_acc: 0.9435 - val_my_iou_metric: 0.8456\n",
      "\n",
      "Epoch 00031: val_my_iou_metric did not improve\n",
      "Epoch 32/200\n",
      " - 41s - loss: 0.0932 - acc: 0.9653 - my_iou_metric: 0.8792 - val_loss: 0.1621 - val_acc: 0.9446 - val_my_iou_metric: 0.8447\n",
      "\n",
      "Epoch 00032: val_my_iou_metric did not improve\n",
      "Epoch 33/200\n",
      " - 41s - loss: 0.0949 - acc: 0.9649 - my_iou_metric: 0.8776 - val_loss: 0.1450 - val_acc: 0.9456 - val_my_iou_metric: 0.8487\n",
      "\n",
      "Epoch 00033: val_my_iou_metric did not improve\n",
      "Epoch 34/200\n",
      " - 41s - loss: 0.0917 - acc: 0.9661 - my_iou_metric: 0.8794 - val_loss: 0.1530 - val_acc: 0.9542 - val_my_iou_metric: 0.8680\n",
      "\n",
      "Epoch 00034: val_my_iou_metric improved from 0.86736 to 0.86797, saving model to ./unet_best1.model\n",
      "Epoch 35/200\n",
      " - 41s - loss: 0.0926 - acc: 0.9652 - my_iou_metric: 0.8794 - val_loss: 0.1397 - val_acc: 0.9501 - val_my_iou_metric: 0.8572\n",
      "\n",
      "Epoch 00035: val_my_iou_metric did not improve\n",
      "Epoch 36/200\n",
      " - 41s - loss: 0.0968 - acc: 0.9638 - my_iou_metric: 0.8769 - val_loss: 0.1465 - val_acc: 0.9513 - val_my_iou_metric: 0.8601\n",
      "\n",
      "Epoch 00036: val_my_iou_metric did not improve\n",
      "Epoch 37/200\n",
      " - 41s - loss: 0.0961 - acc: 0.9646 - my_iou_metric: 0.8771 - val_loss: 0.1488 - val_acc: 0.9472 - val_my_iou_metric: 0.8584\n",
      "\n",
      "Epoch 00037: val_my_iou_metric did not improve\n",
      "Epoch 38/200\n",
      " - 41s - loss: 0.0892 - acc: 0.9662 - my_iou_metric: 0.8801 - val_loss: 0.1421 - val_acc: 0.9466 - val_my_iou_metric: 0.8444\n",
      "\n",
      "Epoch 00038: val_my_iou_metric did not improve\n",
      "Epoch 39/200\n",
      " - 41s - loss: 0.0877 - acc: 0.9678 - my_iou_metric: 0.8831 - val_loss: 0.1641 - val_acc: 0.9505 - val_my_iou_metric: 0.8616\n",
      "\n",
      "Epoch 00039: val_my_iou_metric did not improve\n",
      "Epoch 40/200\n",
      " - 41s - loss: 0.0913 - acc: 0.9667 - my_iou_metric: 0.8806 - val_loss: 0.1558 - val_acc: 0.9499 - val_my_iou_metric: 0.8597\n",
      "\n",
      "Epoch 00040: val_my_iou_metric did not improve\n",
      "Epoch 41/200\n",
      " - 41s - loss: 0.0861 - acc: 0.9679 - my_iou_metric: 0.8833 - val_loss: 0.1511 - val_acc: 0.9535 - val_my_iou_metric: 0.8676\n",
      "\n",
      "Epoch 00041: val_my_iou_metric did not improve\n",
      "Epoch 42/200\n",
      " - 41s - loss: 0.0908 - acc: 0.9660 - my_iou_metric: 0.8818 - val_loss: 0.1435 - val_acc: 0.9508 - val_my_iou_metric: 0.8619\n"
     ]
    },
    {
     "name": "stdout",
     "output_type": "stream",
     "text": [
      "\n",
      "Epoch 00042: val_my_iou_metric did not improve\n",
      "Epoch 43/200\n",
      " - 41s - loss: 0.0888 - acc: 0.9668 - my_iou_metric: 0.8825 - val_loss: 0.1397 - val_acc: 0.9512 - val_my_iou_metric: 0.8604\n",
      "\n",
      "Epoch 00043: val_my_iou_metric did not improve\n",
      "Epoch 44/200\n",
      " - 41s - loss: 0.0904 - acc: 0.9665 - my_iou_metric: 0.8814 - val_loss: 0.1662 - val_acc: 0.9468 - val_my_iou_metric: 0.8547\n",
      "\n",
      "Epoch 00044: val_my_iou_metric did not improve\n",
      "Epoch 45/200\n",
      " - 41s - loss: 0.0902 - acc: 0.9662 - my_iou_metric: 0.8816 - val_loss: 0.1469 - val_acc: 0.9486 - val_my_iou_metric: 0.8576\n",
      "\n",
      "Epoch 00045: val_my_iou_metric did not improve\n",
      "\n",
      "Epoch 00045: ReduceLROnPlateau reducing learning rate to 0.00020000000949949026.\n",
      "Epoch 46/200\n",
      " - 41s - loss: 0.0750 - acc: 0.9723 - my_iou_metric: 0.8943 - val_loss: 0.1424 - val_acc: 0.9550 - val_my_iou_metric: 0.8719\n",
      "\n",
      "Epoch 00046: val_my_iou_metric improved from 0.86797 to 0.87187, saving model to ./unet_best1.model\n",
      "Epoch 47/200\n",
      " - 41s - loss: 0.0701 - acc: 0.9744 - my_iou_metric: 0.8992 - val_loss: 0.1369 - val_acc: 0.9567 - val_my_iou_metric: 0.8731\n",
      "\n",
      "Epoch 00047: val_my_iou_metric improved from 0.87187 to 0.87305, saving model to ./unet_best1.model\n",
      "Epoch 48/200\n",
      " - 41s - loss: 0.0685 - acc: 0.9748 - my_iou_metric: 0.9014 - val_loss: 0.1356 - val_acc: 0.9577 - val_my_iou_metric: 0.8765\n",
      "\n",
      "Epoch 00048: val_my_iou_metric improved from 0.87305 to 0.87650, saving model to ./unet_best1.model\n",
      "Epoch 49/200\n",
      " - 41s - loss: 0.0673 - acc: 0.9750 - my_iou_metric: 0.9019 - val_loss: 0.1330 - val_acc: 0.9584 - val_my_iou_metric: 0.8799\n",
      "\n",
      "Epoch 00049: val_my_iou_metric improved from 0.87650 to 0.87989, saving model to ./unet_best1.model\n",
      "Epoch 50/200\n",
      " - 41s - loss: 0.0656 - acc: 0.9755 - my_iou_metric: 0.9015 - val_loss: 0.1437 - val_acc: 0.9579 - val_my_iou_metric: 0.8792\n",
      "\n",
      "Epoch 00050: val_my_iou_metric did not improve\n",
      "Epoch 51/200\n",
      " - 41s - loss: 0.0652 - acc: 0.9757 - my_iou_metric: 0.9030 - val_loss: 0.1421 - val_acc: 0.9573 - val_my_iou_metric: 0.8769\n",
      "\n",
      "Epoch 00051: val_my_iou_metric did not improve\n",
      "Epoch 52/200\n",
      " - 41s - loss: 0.0660 - acc: 0.9755 - my_iou_metric: 0.9027 - val_loss: 0.1445 - val_acc: 0.9556 - val_my_iou_metric: 0.8737\n",
      "\n",
      "Epoch 00052: val_my_iou_metric did not improve\n",
      "Epoch 53/200\n",
      " - 41s - loss: 0.0625 - acc: 0.9767 - my_iou_metric: 0.9050 - val_loss: 0.1478 - val_acc: 0.9572 - val_my_iou_metric: 0.8762\n",
      "\n",
      "Epoch 00053: val_my_iou_metric did not improve\n",
      "Epoch 54/200\n",
      " - 40s - loss: 0.0646 - acc: 0.9762 - my_iou_metric: 0.9035 - val_loss: 0.1386 - val_acc: 0.9570 - val_my_iou_metric: 0.8753\n",
      "\n",
      "Epoch 00054: val_my_iou_metric did not improve\n",
      "Epoch 55/200\n",
      " - 41s - loss: 0.0622 - acc: 0.9771 - my_iou_metric: 0.9059 - val_loss: 0.1415 - val_acc: 0.9562 - val_my_iou_metric: 0.8760\n",
      "\n",
      "Epoch 00055: val_my_iou_metric did not improve\n",
      "Epoch 56/200\n",
      " - 41s - loss: 0.0635 - acc: 0.9762 - my_iou_metric: 0.9048 - val_loss: 0.1330 - val_acc: 0.9592 - val_my_iou_metric: 0.8785\n",
      "\n",
      "Epoch 00056: val_my_iou_metric did not improve\n",
      "Epoch 57/200\n",
      " - 41s - loss: 0.0620 - acc: 0.9771 - my_iou_metric: 0.9063 - val_loss: 0.1474 - val_acc: 0.9612 - val_my_iou_metric: 0.8821\n",
      "\n",
      "Epoch 00057: val_my_iou_metric improved from 0.87989 to 0.88213, saving model to ./unet_best1.model\n",
      "Epoch 58/200\n",
      " - 41s - loss: 0.0635 - acc: 0.9765 - my_iou_metric: 0.9057 - val_loss: 0.1350 - val_acc: 0.9573 - val_my_iou_metric: 0.8790\n",
      "\n",
      "Epoch 00058: val_my_iou_metric did not improve\n",
      "Epoch 59/200\n",
      " - 41s - loss: 0.0608 - acc: 0.9773 - my_iou_metric: 0.9066 - val_loss: 0.1481 - val_acc: 0.9588 - val_my_iou_metric: 0.8791\n",
      "\n",
      "Epoch 00059: val_my_iou_metric did not improve\n",
      "Epoch 60/200\n",
      " - 41s - loss: 0.0624 - acc: 0.9762 - my_iou_metric: 0.9045 - val_loss: 0.1425 - val_acc: 0.9605 - val_my_iou_metric: 0.8816\n",
      "\n",
      "Epoch 00060: val_my_iou_metric did not improve\n",
      "Epoch 61/200\n",
      " - 41s - loss: 0.0624 - acc: 0.9762 - my_iou_metric: 0.9049 - val_loss: 0.1429 - val_acc: 0.9564 - val_my_iou_metric: 0.8764\n",
      "\n",
      "Epoch 00061: val_my_iou_metric did not improve\n",
      "Epoch 62/200\n",
      " - 40s - loss: 0.0611 - acc: 0.9773 - my_iou_metric: 0.9063 - val_loss: 0.1444 - val_acc: 0.9556 - val_my_iou_metric: 0.8751\n",
      "\n",
      "Epoch 00062: val_my_iou_metric did not improve\n",
      "Epoch 63/200\n",
      " - 41s - loss: 0.0598 - acc: 0.9778 - my_iou_metric: 0.9074 - val_loss: 0.1442 - val_acc: 0.9539 - val_my_iou_metric: 0.8710\n",
      "\n",
      "Epoch 00063: val_my_iou_metric did not improve\n",
      "Epoch 64/200\n",
      " - 41s - loss: 0.0608 - acc: 0.9772 - my_iou_metric: 0.9059 - val_loss: 0.1406 - val_acc: 0.9620 - val_my_iou_metric: 0.8844\n",
      "\n",
      "Epoch 00064: val_my_iou_metric improved from 0.88213 to 0.88439, saving model to ./unet_best1.model\n",
      "Epoch 65/200\n",
      " - 41s - loss: 0.0574 - acc: 0.9787 - my_iou_metric: 0.9102 - val_loss: 0.1310 - val_acc: 0.9612 - val_my_iou_metric: 0.8819\n",
      "\n",
      "Epoch 00065: val_my_iou_metric did not improve\n",
      "Epoch 66/200\n",
      " - 41s - loss: 0.0568 - acc: 0.9785 - my_iou_metric: 0.9094 - val_loss: 0.1377 - val_acc: 0.9599 - val_my_iou_metric: 0.8827\n",
      "\n",
      "Epoch 00066: val_my_iou_metric did not improve\n",
      "Epoch 67/200\n",
      " - 41s - loss: 0.0561 - acc: 0.9789 - my_iou_metric: 0.9106 - val_loss: 0.1377 - val_acc: 0.9602 - val_my_iou_metric: 0.8832\n",
      "\n",
      "Epoch 00067: val_my_iou_metric did not improve\n",
      "Epoch 68/200\n",
      " - 41s - loss: 0.0586 - acc: 0.9777 - my_iou_metric: 0.9073 - val_loss: 0.1651 - val_acc: 0.9601 - val_my_iou_metric: 0.8822\n",
      "\n",
      "Epoch 00068: val_my_iou_metric did not improve\n",
      "Epoch 69/200\n",
      " - 41s - loss: 0.0586 - acc: 0.9782 - my_iou_metric: 0.9085 - val_loss: 0.1368 - val_acc: 0.9614 - val_my_iou_metric: 0.8841\n",
      "\n",
      "Epoch 00069: val_my_iou_metric did not improve\n",
      "Epoch 70/200\n",
      " - 41s - loss: 0.0564 - acc: 0.9781 - my_iou_metric: 0.9088 - val_loss: 0.1510 - val_acc: 0.9582 - val_my_iou_metric: 0.8780\n",
      "\n",
      "Epoch 00070: val_my_iou_metric did not improve\n",
      "Epoch 71/200\n",
      " - 41s - loss: 0.0563 - acc: 0.9787 - my_iou_metric: 0.9100 - val_loss: 0.1449 - val_acc: 0.9627 - val_my_iou_metric: 0.8851\n",
      "\n",
      "Epoch 00071: val_my_iou_metric improved from 0.88439 to 0.88506, saving model to ./unet_best1.model\n",
      "Epoch 72/200\n",
      " - 41s - loss: 0.0568 - acc: 0.9784 - my_iou_metric: 0.9101 - val_loss: 0.1377 - val_acc: 0.9603 - val_my_iou_metric: 0.8798\n",
      "\n",
      "Epoch 00072: val_my_iou_metric did not improve\n",
      "Epoch 73/200\n",
      " - 41s - loss: 0.0600 - acc: 0.9776 - my_iou_metric: 0.9080 - val_loss: 0.1433 - val_acc: 0.9625 - val_my_iou_metric: 0.8864\n",
      "\n",
      "Epoch 00073: val_my_iou_metric improved from 0.88506 to 0.88643, saving model to ./unet_best1.model\n",
      "Epoch 74/200\n",
      " - 41s - loss: 0.0569 - acc: 0.9791 - my_iou_metric: 0.9111 - val_loss: 0.1395 - val_acc: 0.9590 - val_my_iou_metric: 0.8752\n",
      "\n",
      "Epoch 00074: val_my_iou_metric did not improve\n",
      "Epoch 75/200\n",
      " - 41s - loss: 0.0553 - acc: 0.9790 - my_iou_metric: 0.9105 - val_loss: 0.1556 - val_acc: 0.9622 - val_my_iou_metric: 0.8855\n",
      "\n",
      "Epoch 00075: val_my_iou_metric did not improve\n",
      "Epoch 76/200\n",
      " - 41s - loss: 0.0555 - acc: 0.9789 - my_iou_metric: 0.9099 - val_loss: 0.1520 - val_acc: 0.9616 - val_my_iou_metric: 0.8836\n",
      "\n",
      "Epoch 00076: val_my_iou_metric did not improve\n",
      "Epoch 77/200\n",
      " - 41s - loss: 0.0554 - acc: 0.9792 - my_iou_metric: 0.9107 - val_loss: 0.1396 - val_acc: 0.9599 - val_my_iou_metric: 0.8808\n",
      "\n",
      "Epoch 00077: val_my_iou_metric did not improve\n",
      "Epoch 78/200\n",
      " - 40s - loss: 0.0559 - acc: 0.9794 - my_iou_metric: 0.9122 - val_loss: 0.1579 - val_acc: 0.9550 - val_my_iou_metric: 0.8744\n",
      "\n",
      "Epoch 00078: val_my_iou_metric did not improve\n",
      "Epoch 79/200\n",
      " - 41s - loss: 0.0572 - acc: 0.9786 - my_iou_metric: 0.9105 - val_loss: 0.1460 - val_acc: 0.9593 - val_my_iou_metric: 0.8798\n",
      "\n",
      "Epoch 00079: val_my_iou_metric did not improve\n",
      "Epoch 80/200\n",
      " - 41s - loss: 0.0560 - acc: 0.9791 - my_iou_metric: 0.9116 - val_loss: 0.1525 - val_acc: 0.9570 - val_my_iou_metric: 0.8782\n",
      "\n",
      "Epoch 00080: val_my_iou_metric did not improve\n",
      "Epoch 81/200\n",
      " - 40s - loss: 0.0539 - acc: 0.9797 - my_iou_metric: 0.9118 - val_loss: 0.1652 - val_acc: 0.9593 - val_my_iou_metric: 0.8828\n",
      "\n",
      "Epoch 00081: val_my_iou_metric did not improve\n",
      "Epoch 82/200\n",
      " - 40s - loss: 0.0546 - acc: 0.9792 - my_iou_metric: 0.9123 - val_loss: 0.1618 - val_acc: 0.9597 - val_my_iou_metric: 0.8811\n",
      "\n",
      "Epoch 00082: val_my_iou_metric did not improve\n",
      "Epoch 83/200\n",
      " - 40s - loss: 0.0546 - acc: 0.9793 - my_iou_metric: 0.9114 - val_loss: 0.1607 - val_acc: 0.9598 - val_my_iou_metric: 0.8835\n",
      "\n",
      "Epoch 00083: val_my_iou_metric did not improve\n",
      "Epoch 84/200\n"
     ]
    },
    {
     "name": "stdout",
     "output_type": "stream",
     "text": [
      " - 40s - loss: 0.0550 - acc: 0.9794 - my_iou_metric: 0.9127 - val_loss: 0.1567 - val_acc: 0.9596 - val_my_iou_metric: 0.8832\n",
      "\n",
      "Epoch 00084: val_my_iou_metric did not improve\n",
      "\n",
      "Epoch 00084: ReduceLROnPlateau reducing learning rate to 4.0000001899898055e-05.\n",
      "Epoch 85/200\n",
      " - 40s - loss: 0.0535 - acc: 0.9798 - my_iou_metric: 0.9131 - val_loss: 0.1476 - val_acc: 0.9610 - val_my_iou_metric: 0.8835\n",
      "\n",
      "Epoch 00085: val_my_iou_metric did not improve\n",
      "Epoch 86/200\n",
      " - 40s - loss: 0.0547 - acc: 0.9797 - my_iou_metric: 0.9135 - val_loss: 0.1406 - val_acc: 0.9613 - val_my_iou_metric: 0.8847\n",
      "\n",
      "Epoch 00086: val_my_iou_metric did not improve\n",
      "Epoch 87/200\n",
      " - 40s - loss: 0.0533 - acc: 0.9800 - my_iou_metric: 0.9141 - val_loss: 0.1382 - val_acc: 0.9620 - val_my_iou_metric: 0.8841\n",
      "\n",
      "Epoch 00087: val_my_iou_metric did not improve\n",
      "Epoch 88/200\n",
      " - 40s - loss: 0.0503 - acc: 0.9807 - my_iou_metric: 0.9152 - val_loss: 0.1497 - val_acc: 0.9607 - val_my_iou_metric: 0.8815\n",
      "\n",
      "Epoch 00088: val_my_iou_metric did not improve\n",
      "Epoch 89/200\n",
      " - 40s - loss: 0.0526 - acc: 0.9798 - my_iou_metric: 0.9139 - val_loss: 0.1455 - val_acc: 0.9607 - val_my_iou_metric: 0.8823\n",
      "\n",
      "Epoch 00089: val_my_iou_metric did not improve\n",
      "Epoch 90/200\n",
      " - 40s - loss: 0.0502 - acc: 0.9807 - my_iou_metric: 0.9154 - val_loss: 0.1522 - val_acc: 0.9606 - val_my_iou_metric: 0.8842\n",
      "\n",
      "Epoch 00090: val_my_iou_metric did not improve\n",
      "Epoch 91/200\n",
      " - 40s - loss: 0.0498 - acc: 0.9812 - my_iou_metric: 0.9165 - val_loss: 0.1554 - val_acc: 0.9602 - val_my_iou_metric: 0.8817\n",
      "\n",
      "Epoch 00091: val_my_iou_metric did not improve\n",
      "Epoch 92/200\n",
      " - 40s - loss: 0.0494 - acc: 0.9811 - my_iou_metric: 0.9163 - val_loss: 0.1535 - val_acc: 0.9591 - val_my_iou_metric: 0.8803\n",
      "\n",
      "Epoch 00092: val_my_iou_metric did not improve\n",
      "Epoch 93/200\n",
      " - 40s - loss: 0.0499 - acc: 0.9809 - my_iou_metric: 0.9153 - val_loss: 0.1602 - val_acc: 0.9602 - val_my_iou_metric: 0.8828\n",
      "\n",
      "Epoch 00093: val_my_iou_metric did not improve\n",
      "Epoch 94/200\n",
      " - 40s - loss: 0.0508 - acc: 0.9808 - my_iou_metric: 0.9159 - val_loss: 0.1536 - val_acc: 0.9613 - val_my_iou_metric: 0.8854\n",
      "\n",
      "Epoch 00094: val_my_iou_metric did not improve\n",
      "\n",
      "Epoch 00094: ReduceLROnPlateau reducing learning rate to 1e-05.\n",
      "Epoch 95/200\n",
      " - 40s - loss: 0.0499 - acc: 0.9812 - my_iou_metric: 0.9168 - val_loss: 0.1552 - val_acc: 0.9614 - val_my_iou_metric: 0.8846\n",
      "\n",
      "Epoch 00095: val_my_iou_metric did not improve\n",
      "Epoch 96/200\n",
      " - 41s - loss: 0.0503 - acc: 0.9811 - my_iou_metric: 0.9158 - val_loss: 0.1578 - val_acc: 0.9612 - val_my_iou_metric: 0.8844\n",
      "\n",
      "Epoch 00096: val_my_iou_metric did not improve\n",
      "Epoch 97/200\n",
      " - 41s - loss: 0.0504 - acc: 0.9812 - my_iou_metric: 0.9164 - val_loss: 0.1574 - val_acc: 0.9610 - val_my_iou_metric: 0.8845\n",
      "\n",
      "Epoch 00097: val_my_iou_metric did not improve\n",
      "Epoch 98/200\n",
      " - 41s - loss: 0.0502 - acc: 0.9809 - my_iou_metric: 0.9159 - val_loss: 0.1569 - val_acc: 0.9612 - val_my_iou_metric: 0.8851\n",
      "\n",
      "Epoch 00098: val_my_iou_metric did not improve\n",
      "Epoch 99/200\n",
      " - 41s - loss: 0.0510 - acc: 0.9808 - my_iou_metric: 0.9161 - val_loss: 0.1569 - val_acc: 0.9604 - val_my_iou_metric: 0.8842\n",
      "\n",
      "Epoch 00099: val_my_iou_metric did not improve\n",
      "Epoch 100/200\n",
      " - 41s - loss: 0.0509 - acc: 0.9802 - my_iou_metric: 0.9144 - val_loss: 0.1545 - val_acc: 0.9607 - val_my_iou_metric: 0.8845\n",
      "\n",
      "Epoch 00100: val_my_iou_metric did not improve\n",
      "Epoch 101/200\n",
      " - 41s - loss: 0.0515 - acc: 0.9804 - my_iou_metric: 0.9150 - val_loss: 0.1541 - val_acc: 0.9603 - val_my_iou_metric: 0.8840\n",
      "\n",
      "Epoch 00101: val_my_iou_metric did not improve\n",
      "Epoch 102/200\n",
      " - 40s - loss: 0.0499 - acc: 0.9811 - my_iou_metric: 0.9163 - val_loss: 0.1535 - val_acc: 0.9605 - val_my_iou_metric: 0.8846\n",
      "\n",
      "Epoch 00102: val_my_iou_metric did not improve\n",
      "Epoch 103/200\n",
      " - 41s - loss: 0.0506 - acc: 0.9807 - my_iou_metric: 0.9159 - val_loss: 0.1570 - val_acc: 0.9602 - val_my_iou_metric: 0.8844\n",
      "\n",
      "Epoch 00103: val_my_iou_metric did not improve\n",
      "Epoch 00103: early stopping\n"
     ]
    }
   ],
   "source": [
    "early_stopping = EarlyStopping(monitor='val_my_iou_metric', mode = 'max',patience=30, verbose=1)\n",
    "model_checkpoint = ModelCheckpoint(\"./unet_best1.model\",monitor='val_my_iou_metric', \n",
    "                                   mode = 'max', save_best_only=True, verbose=1)\n",
    "reduce_lr = ReduceLROnPlateau(monitor='val_my_iou_metric', mode = 'max',factor=0.2, patience=10, min_lr=0.00001, verbose=1)\n",
    "#reduce_lr = ReduceLROnPlateau(factor=0.2, patience=5, min_lr=0.00001, verbose=1)\n",
    "\n",
    "epochs = 200\n",
    "batch_size = 25\n",
    "\n",
    "history = model.fit(x_train, y_train,\n",
    "                    validation_data=[x_valid, y_valid], \n",
    "                    epochs=epochs,\n",
    "                    batch_size=batch_size,\n",
    "                    callbacks=[early_stopping, model_checkpoint, reduce_lr], \n",
    "                    verbose=2)"
   ]
  },
  {
   "cell_type": "code",
   "execution_count": 22,
   "metadata": {
    "_uuid": "81aba20e2904bcab1c3ac601f28a880f856e491b"
   },
   "outputs": [
    {
     "data": {
      "image/png": "[encoded data removed]",
      "text/plain": [
       "<Figure size 432x288 with 1 Axes>"
      ]
     },
     "metadata": {},
     "output_type": "display_data"
    }
   ],
   "source": [
    "import matplotlib.pyplot as plt\n",
    "# summarize history for loss\n",
    "plt.plot(history.history['acc'][1:])\n",
    "plt.plot(history.history['val_acc'][1:])\n",
    "plt.plot(history.history['my_iou_metric'][1:])\n",
    "plt.plot(history.history['val_my_iou_metric'][1:])\n",
    "plt.title('model loss')\n",
    "plt.ylabel('loss')\n",
    "plt.xlabel('epoch')\n",
    "plt.legend(['train','Validation'], loc='upper left')\n",
    "plt.show()\n"
   ]
  },
  {
   "cell_type": "code",
   "execution_count": 23,
   "metadata": {
    "_uuid": "347c6567c95430f28ec51b94f42603e37a4056db",
    "scrolled": true
   },
   "outputs": [
    {
     "data": {
      "text/plain": [
       "[<matplotlib.lines.Line2D at 0x14357e8eef0>]"
      ]
     },
     "execution_count": 23,
     "metadata": {},
     "output_type": "execute_result"
    },
    {
     "data": {
      "image/png": "[encoded data removed]",
      "text/plain": [
       "<Figure size 1080x360 with 2 Axes>"
      ]
     },
     "metadata": {},
     "output_type": "display_data"
    }
   ],
   "source": [
    "fig, (ax_loss, ax_acc) = plt.subplots(1, 2, figsize=(15,5))\n",
    "ax_loss.plot(history.epoch, history.history[\"loss\"], label=\"Train loss\")\n",
    "ax_loss.plot(history.epoch, history.history[\"val_loss\"], label=\"Validation loss\")"
   ]
  },
  {
   "cell_type": "code",
   "execution_count": null,
   "metadata": {
    "_uuid": "a081f8f61a713457c8c8f3979a78f75541875456"
   },
   "outputs": [],
   "source": [
    "model = load_model(\"./unet_best1.model\",custom_objects={'my_iou_metric': my_iou_metric, 'lavazs_loss': lavazs_loss})"
   ]
  },
  {
   "cell_type": "code",
   "execution_count": null,
   "metadata": {
    "_uuid": "5da2648534e6f8a4d2fbd8995cf9e6a1c9c0d227"
   },
   "outputs": [],
   "source": [
    "def predict_result(model,x_test,img_size_target): # predict both orginal and reflect x\n",
    "    preds_test = model.predict(x_test).reshape(-1, img_size_target, img_size_target)\n",
    "    preds_test += np.array([ np.fliplr(a) for a in model.predict(np.array([np.fliplr(x) for x in x_test])).reshape(-1, img_size_target, img_size_target)])\n",
    "    return preds_test/2.0"
   ]
  },
  {
   "cell_type": "code",
   "execution_count": null,
   "metadata": {
    "_uuid": "b7a061700364ea17735f953d6bd3c835bc3dc630"
   },
   "outputs": [],
   "source": [
    "preds_valid = predict_result(model,x_valid,img_size_target)"
   ]
  },
  {
   "cell_type": "code",
   "execution_count": null,
   "metadata": {
    "_uuid": "91b1be75d7e8ff74db956c8c846c47ed7576ecb2",
    "scrolled": true
   },
   "outputs": [],
   "source": [
    "def filter_image(img):\n",
    "    if img.sum() < 100:\n",
    "        return np.zeros(img.shape)\n",
    "    else:\n",
    "        return img\n",
    "\n",
    "## Scoring for last model\n",
    "thresholds = np.linspace(0.3, 0.7, 31)\n",
    "ious = np.array([iou_metric(y_valid.reshape((-1, img_size_target, img_size_target)), [filter_image(img) for img in preds_valid > threshold]) for threshold in tqdm_notebook(thresholds)])\n"
   ]
  },
  {
   "cell_type": "code",
   "execution_count": 28,
   "metadata": {
    "_uuid": "1beb285910aa6532d7a69a70afa6a9671e6d347d"
   },
   "outputs": [
    {
     "data": {
      "text/plain": [
       "<matplotlib.legend.Legend at 0x143571c57b8>"
      ]
     },
     "execution_count": 28,
     "metadata": {},
     "output_type": "execute_result"
    },
    {
     "data": {
      "image/png": "[encoded data removed]",
      "text/plain": [
       "<Figure size 432x288 with 1 Axes>"
      ]
     },
     "metadata": {},
     "output_type": "display_data"
    }
   ],
   "source": [
    "threshold_best_index = np.argmax(ious) \n",
    "iou_best = ious[threshold_best_index]\n",
    "threshold_best = thresholds[threshold_best_index]\n",
    "\n",
    "plt.plot(thresholds, ious)\n",
    "plt.plot(threshold_best, iou_best, \"xr\", label=\"Best threshold\")\n",
    "plt.xlabel(\"Threshold\")\n",
    "plt.ylabel(\"IoU\")\n",
    "plt.title(\"Threshold vs IoU ({}, {})\".format(threshold_best, iou_best))\n",
    "plt.legend()"
   ]
  },
  {
   "cell_type": "code",
   "execution_count": null,
   "metadata": {
    "_uuid": "2c4852ecf2c504a4ce30e975f5e36b534c2111e6"
   },
   "outputs": [],
   "source": [
    "def rle_encode(im):\n",
    "    pixels = im.flatten(order = 'F')\n",
    "    pixels = np.concatenate([[0], pixels, [0]])\n",
    "    runs = np.where(pixels[1:] != pixels[:-1])[0] + 1\n",
    "    runs[1::2] -= runs[::2]\n",
    "    return ' '.join(str(x) for x in runs)"
   ]
  },
  {
   "cell_type": "code",
   "execution_count": null,
   "metadata": {
    "_uuid": "e84d3cc4fd7b6b7517a5eab0c0b9df38421e0c13"
   },
   "outputs": [],
   "source": [
    "import gc\n",
    "\n",
    "del x_train, x_valid, y_train, y_valid, preds_valid\n",
    "gc.collect()"
   ]
  },
  {
   "cell_type": "code",
   "execution_count": null,
   "metadata": {
    "_uuid": "21bb50645b1c67d907e42c262d92f975668fccac"
   },
   "outputs": [],
   "source": [
    "x_test = np.array([(np.array(load_img(path_test_images+\"{}.png\".format(idx), grayscale = True))) / 255 for idx in tqdm_notebook(test_df.index)]).reshape(-1, img_size_target, img_size_target, 1)\n",
    "\n",
    "preds_test = predict_result(model,x_test,img_size_target)"
   ]
  },
  {
   "cell_type": "code",
   "execution_count": null,
   "metadata": {
    "_uuid": "7ccac81a492b9caaff4a25401165e145cf2c6f8e"
   },
   "outputs": [],
   "source": [
    "import time\n",
    "t1 = time.time()\n",
    "pred_dict = {idx: rle_encode(filter_image(preds_test[i] > threshold_best)) for i, idx in enumerate(tqdm_notebook(test_df.index.values))}\n",
    "t2 = time.time()\n",
    "\n",
    "print(f\"Usedtime = {t2-t1} s\")"
   ]
  },
  {
   "cell_type": "code",
   "execution_count": null,
   "metadata": {
    "_uuid": "770d7d596656f4f1ad17a6063ad662ac80e11b24"
   },
   "outputs": [],
   "source": [
    "sub = pd.DataFrame.from_dict(pred_dict,orient='index')\n",
    "sub.index.names = ['id']\n",
    "sub.columns = ['rle_mask']\n",
    "sub.to_csv('submission.csv.gz', compression = 'gzip')"
   ]
  },
  {
   "cell_type": "code",
   "execution_count": null,
   "metadata": {
    "_uuid": "031bc2ef4548059939fae54c06f24f68e0ad3330"
   },
   "outputs": [],
   "source": [
    "sub.head(10)"
   ]
  },
  {
   "cell_type": "code",
   "execution_count": null,
   "metadata": {},
   "outputs": [],
   "source": []
  }
 ],
 "metadata": {
  "kernelspec": {
   "display_name": "Python 3",
   "language": "python",
   "name": "python3"
  },
  "language_info": {
   "codemirror_mode": {
    "name": "ipython",
    "version": 3
   },
   "file_extension": ".py",
   "mimetype": "text/x-python",
   "name": "python",
   "nbconvert_exporter": "python",
   "pygments_lexer": "ipython3",
   "version": "3.6.4"
  }
 },
 "nbformat": 4,
 "nbformat_minor": 1
}
