{
 "cells": [
  {
   "cell_type": "markdown",
   "metadata": {},
   "source": [
    "# Load data"
   ]
  },
  {
   "cell_type": "code",
   "execution_count": 1,
   "metadata": {},
   "outputs": [],
   "source": [
    "import sys\n",
    "sys.path.append(r'D:\\Programming\\3rd_party\\keras')"
   ]
  },
  {
   "cell_type": "code",
   "execution_count": 2,
   "metadata": {
    "scrolled": false
   },
   "outputs": [
    {
     "name": "stderr",
     "output_type": "stream",
     "text": [
      "c:\\miniconda3\\lib\\site-packages\\h5py\\__init__.py:36: FutureWarning: Conversion of the second argument of issubdtype from `float` to `np.floating` is deprecated. In future, it will be treated as `np.float64 == np.dtype(float).type`.\n",
      "  from ._conv import register_converters as _register_converters\n",
      "Using TensorFlow backend.\n"
     ]
    }
   ],
   "source": [
    "import sys\n",
    "from imp import reload\n",
    "import numpy as np\n",
    "import matplotlib.pyplot as plt\n",
    "plt.style.use('seaborn-white')\n",
    "import seaborn as sns\n",
    "sns.set_style(\"white\")\n",
    "import pandas as pd\n",
    "\n",
    "import keras\n",
    "\n",
    "from keras.models import Model, load_model\n",
    "from keras.layers import Input,Dropout,BatchNormalization,Activation,Add\n",
    "from keras.layers.core import Lambda\n",
    "from keras.layers.convolutional import Conv2D, Conv2DTranspose\n",
    "from keras.layers.pooling import MaxPooling2D\n",
    "from keras.layers.merge import concatenate\n",
    "from keras.callbacks import EarlyStopping, ModelCheckpoint, ReduceLROnPlateau\n",
    "from keras import backend as K\n",
    "\n",
    "import tensorflow as tf\n",
    "\n",
    "from skimage.transform import resize\n",
    "import cv2\n",
    "from tqdm import tqdm_notebook"
   ]
  },
  {
   "cell_type": "code",
   "execution_count": 3,
   "metadata": {},
   "outputs": [],
   "source": [
    "import load_data\n",
    "load_data = reload(load_data)"
   ]
  },
  {
   "cell_type": "code",
   "execution_count": 4,
   "metadata": {},
   "outputs": [],
   "source": [
    "DEV_MODE_RANGE = 0 # off"
   ]
  },
  {
   "cell_type": "code",
   "execution_count": 5,
   "metadata": {},
   "outputs": [
    {
     "name": "stdout",
     "output_type": "stream",
     "text": [
      "(3920, 9) (18000, 1) (22000, 1)\n"
     ]
    },
    {
     "data": {
      "application/vnd.jupyter.widget-view+json": {
       "model_id": "74ca813dc82e4a258992508bd707395a",
       "version_major": 2,
       "version_minor": 0
      },
      "text/html": [
       "<p>Failed to display Jupyter Widget of type <code>HBox</code>.</p>\n",
       "<p>\n",
       "  If you're reading this message in the Jupyter Notebook or JupyterLab Notebook, it may mean\n",
       "  that the widgets JavaScript is still loading. If this message persists, it\n",
       "  likely means that the widgets JavaScript library is either not installed or\n",
       "  not enabled. See the <a href=\"https://ipywidgets.readthedocs.io/en/stable/user_install.html\">Jupyter\n",
       "  Widgets Documentation</a> for setup instructions.\n",
       "</p>\n",
       "<p>\n",
       "  If you're reading this message in another frontend (for example, a static\n",
       "  rendering on GitHub or <a href=\"https://nbviewer.jupyter.org/\">NBViewer</a>),\n",
       "  it may mean that your frontend doesn't currently support widgets.\n",
       "</p>\n"
      ],
      "text/plain": [
       "HBox(children=(IntProgress(value=0, max=3920), HTML(value='')))"
      ]
     },
     "metadata": {},
     "output_type": "display_data"
    },
    {
     "name": "stdout",
     "output_type": "stream",
     "text": [
      "\n"
     ]
    },
    {
     "data": {
      "application/vnd.jupyter.widget-view+json": {
       "model_id": "7f604d7b7f67407ca49ad72cfd39339e",
       "version_major": 2,
       "version_minor": 0
      },
      "text/html": [
       "<p>Failed to display Jupyter Widget of type <code>HBox</code>.</p>\n",
       "<p>\n",
       "  If you're reading this message in the Jupyter Notebook or JupyterLab Notebook, it may mean\n",
       "  that the widgets JavaScript is still loading. If this message persists, it\n",
       "  likely means that the widgets JavaScript library is either not installed or\n",
       "  not enabled. See the <a href=\"https://ipywidgets.readthedocs.io/en/stable/user_install.html\">Jupyter\n",
       "  Widgets Documentation</a> for setup instructions.\n",
       "</p>\n",
       "<p>\n",
       "  If you're reading this message in another frontend (for example, a static\n",
       "  rendering on GitHub or <a href=\"https://nbviewer.jupyter.org/\">NBViewer</a>),\n",
       "  it may mean that your frontend doesn't currently support widgets.\n",
       "</p>\n"
      ],
      "text/plain": [
       "HBox(children=(IntProgress(value=0, max=3920), HTML(value='')))"
      ]
     },
     "metadata": {},
     "output_type": "display_data"
    },
    {
     "name": "stdout",
     "output_type": "stream",
     "text": [
      "\n"
     ]
    }
   ],
   "source": [
    "train_df = load_data.LoadData(train_data = True, DEV_MODE_RANGE = DEV_MODE_RANGE)"
   ]
  },
  {
   "cell_type": "code",
   "execution_count": 6,
   "metadata": {},
   "outputs": [
    {
     "name": "stdout",
     "output_type": "stream",
     "text": [
      "(3920, 9) (18000, 1) (22000, 1)\n"
     ]
    },
    {
     "data": {
      "application/vnd.jupyter.widget-view+json": {
       "model_id": "b0d68332cdc744669cf00fd7eba05df2",
       "version_major": 2,
       "version_minor": 0
      },
      "text/html": [
       "<p>Failed to display Jupyter Widget of type <code>HBox</code>.</p>\n",
       "<p>\n",
       "  If you're reading this message in the Jupyter Notebook or JupyterLab Notebook, it may mean\n",
       "  that the widgets JavaScript is still loading. If this message persists, it\n",
       "  likely means that the widgets JavaScript library is either not installed or\n",
       "  not enabled. See the <a href=\"https://ipywidgets.readthedocs.io/en/stable/user_install.html\">Jupyter\n",
       "  Widgets Documentation</a> for setup instructions.\n",
       "</p>\n",
       "<p>\n",
       "  If you're reading this message in another frontend (for example, a static\n",
       "  rendering on GitHub or <a href=\"https://nbviewer.jupyter.org/\">NBViewer</a>),\n",
       "  it may mean that your frontend doesn't currently support widgets.\n",
       "</p>\n"
      ],
      "text/plain": [
       "HBox(children=(IntProgress(value=0, max=18000), HTML(value='')))"
      ]
     },
     "metadata": {},
     "output_type": "display_data"
    },
    {
     "name": "stdout",
     "output_type": "stream",
     "text": [
      "\n"
     ]
    }
   ],
   "source": [
    "test_df = load_data.LoadData(train_data = False, DEV_MODE_RANGE = DEV_MODE_RANGE)"
   ]
  },
  {
   "cell_type": "code",
   "execution_count": 7,
   "metadata": {},
   "outputs": [],
   "source": [
    "test_fold_no = 1"
   ]
  },
  {
   "cell_type": "code",
   "execution_count": 8,
   "metadata": {
    "scrolled": true
   },
   "outputs": [
    {
     "data": {
      "text/plain": [
       "((784,), (784,))"
      ]
     },
     "execution_count": 8,
     "metadata": {},
     "output_type": "execute_result"
    }
   ],
   "source": [
    "_, _, validate_images, validate_masks = load_data.SplitTrainData(train_df, test_fold_no)\n",
    "validate_images.shape, validate_masks.shape"
   ]
  },
  {
   "cell_type": "code",
   "execution_count": 9,
   "metadata": {},
   "outputs": [
    {
     "data": {
      "text/plain": [
       "(18000,)"
      ]
     },
     "execution_count": 9,
     "metadata": {},
     "output_type": "execute_result"
    }
   ],
   "source": [
    "test_images = test_df.images\n",
    "test_images.shape"
   ]
  },
  {
   "cell_type": "markdown",
   "metadata": {},
   "source": [
    "# IOU metric"
   ]
  },
  {
   "cell_type": "code",
   "execution_count": 10,
   "metadata": {},
   "outputs": [],
   "source": [
    "thresholds = np.array([0.5, 0.55, 0.6, 0.65, 0.7, 0.75, 0.8, 0.85, 0.9, 0.95])\n",
    "\n",
    "def iou(img_true, img_pred):\n",
    "    assert (img_true.shape[-1]==1) and (len(img_true.shape)==3) or (img_true.shape[-1]!=1) and (len(img_true.shape)==2)\n",
    "    i = np.sum((img_true*img_pred) >0)\n",
    "    u = np.sum((img_true + img_pred) >0)\n",
    "    if u == 0:\n",
    "        return u\n",
    "    return i/u\n",
    "\n",
    "def iou_metric(img_true, img_pred):\n",
    "    img_pred = img_pred > 0.5 # added by sgx 20180728\n",
    "    if img_true.sum() == img_pred.sum() == 0:\n",
    "        scores = 1\n",
    "    else:\n",
    "        scores = (thresholds <= iou(img_true, img_pred)).mean()\n",
    "    return scores\n",
    "\n",
    "def iou_metric_batch(y_true_in, y_pred_in):\n",
    "    batch_size = len(y_true_in)\n",
    "    metric = []\n",
    "    for batch in range(batch_size):\n",
    "        value = iou_metric(y_true_in[batch], y_pred_in[batch])\n",
    "        metric.append(value)\n",
    "    #print(\"metric = \",metric)\n",
    "    return np.mean(metric)\n",
    "\n",
    "# adapter for Keras\n",
    "def my_iou_metric(label, pred):\n",
    "    metric_value = tf.py_func(iou_metric_batch, [label, pred], tf.float64)\n",
    "    return metric_value\n"
   ]
  },
  {
   "cell_type": "markdown",
   "metadata": {},
   "source": [
    "# Data generator"
   ]
  },
  {
   "cell_type": "code",
   "execution_count": 11,
   "metadata": {},
   "outputs": [
    {
     "data": {
      "text/plain": [
       "(0.481577, 0.11108)"
      ]
     },
     "execution_count": 11,
     "metadata": {},
     "output_type": "execute_result"
    }
   ],
   "source": [
    "mean_val = 0.481577\n",
    "mean_std = 0.11108\n",
    "mean_val, mean_std "
   ]
  },
  {
   "cell_type": "code",
   "execution_count": 12,
   "metadata": {},
   "outputs": [],
   "source": [
    "sys.path.insert(1, '../3rd_party/albumentations')\n",
    "sys.path.insert(1, '../3rd_party/imgaug')\n",
    "import albumentations"
   ]
  },
  {
   "cell_type": "code",
   "execution_count": 13,
   "metadata": {},
   "outputs": [],
   "source": [
    "augmented_image_size = 303\n",
    "nn_image_size = 224"
   ]
  },
  {
   "cell_type": "code",
   "execution_count": 14,
   "metadata": {},
   "outputs": [],
   "source": [
    "def basic_aug(p=1.):\n",
    "    return albumentations.Compose([\n",
    "        albumentations.Resize(augmented_image_size, augmented_image_size),\n",
    "        albumentations.HorizontalFlip(),\n",
    "        albumentations.RandomCrop(nn_image_size, nn_image_size),\n",
    "        albumentations.Normalize(mean = mean_val, std = mean_std, max_pixel_value = 1.0),\n",
    "    ], p=p)"
   ]
  },
  {
   "cell_type": "code",
   "execution_count": 15,
   "metadata": {},
   "outputs": [],
   "source": [
    "import threading\n",
    "class AlbuDataGenerator(keras.utils.Sequence):\n",
    "    'Generates data for Keras'\n",
    "    def __init__(self, images, masks, batch_size=32, nn_image_size = 96, shuffle=True, aug_func = basic_aug):\n",
    "        'Initialization'\n",
    "        self.images = images\n",
    "        self.masks = masks\n",
    "        self.batch_size = batch_size\n",
    "        self.nn_image_size = nn_image_size\n",
    "        self.shuffle = shuffle\n",
    "        self.indexes = np.arange(len(self.images))\n",
    "        self.on_epoch_end()\n",
    "        self.augmentation = aug_func()\n",
    "        \n",
    "    def __len__(self):\n",
    "        'Denotes the number of batches per epoch'\n",
    "        return int(np.ceil(len(self.images) / self.batch_size))\n",
    "\n",
    "    def __getitem__(self, index):\n",
    "        'Generate one batch of data'\n",
    "        # Generate indexes of the batch\n",
    "        indexes = self.indexes[index*self.batch_size:(index+1)*self.batch_size]\n",
    "        X, y = self.__data_generation(indexes)\n",
    "        return X, y\n",
    "\n",
    "    def on_epoch_end(self):\n",
    "        'Updates indexes after each epoch'\n",
    "        if self.shuffle == True:\n",
    "            np.random.shuffle(self.indexes)\n",
    "\n",
    "    def __data_generation(self, indexes):\n",
    "        'Generates data containing batch_size samples' # X : (n_samples, *dim, n_channels)\n",
    "        # Initialization\n",
    "        X = np.empty((self.batch_size, self.nn_image_size,self.nn_image_size, 3), dtype=np.float32)\n",
    "        y = np.empty((self.batch_size, self.nn_image_size,self.nn_image_size, 1), dtype=np.float32)\n",
    "\n",
    "        # Generate data\n",
    "        for i, index in enumerate(indexes):\n",
    "            image = self.images[index]\n",
    "            mask = None if self.masks is None else self.masks[index]\n",
    "            aug_res = self.augmentation(image = image, mask = mask)\n",
    "            image = aug_res['image']\n",
    "            X[i, ...] = image\n",
    "            mask = aug_res['mask']\n",
    "            y[i, ...] = mask.reshape(mask.shape[0], mask.shape[1], 1)\n",
    "\n",
    "        return X, y"
   ]
  },
  {
   "cell_type": "markdown",
   "metadata": {},
   "source": [
    "# model"
   ]
  },
  {
   "cell_type": "code",
   "execution_count": 16,
   "metadata": {},
   "outputs": [],
   "source": [
    "sys.path.append('../3rd_party/segmentation_models')\n",
    "import segmentation_models\n",
    "segmentation_models = reload(segmentation_models)\n",
    "from segmentation_models.utils import set_trainable\n"
   ]
  },
  {
   "cell_type": "code",
   "execution_count": 17,
   "metadata": {},
   "outputs": [],
   "source": [
    "model_name = 'FNN'\n",
    "backbone_name='resnet34'\n",
    "test_batch_size = 50"
   ]
  },
  {
   "cell_type": "code",
   "execution_count": 18,
   "metadata": {},
   "outputs": [
    {
     "data": {
      "text/plain": [
       "'models_2_180922/FNN_resnet34_1.model'"
      ]
     },
     "execution_count": 18,
     "metadata": {},
     "output_type": "execute_result"
    }
   ],
   "source": [
    "model_out_file = 'models_2_180922/{model_name}_{backbone_name}_{test_fold_no}.model'.format(model_name=model_name, backbone_name=backbone_name, test_fold_no=test_fold_no)\n",
    "model_out_file"
   ]
  },
  {
   "cell_type": "code",
   "execution_count": 19,
   "metadata": {},
   "outputs": [],
   "source": [
    "model = load_model(model_out_file, custom_objects={'my_iou_metric': my_iou_metric}) #, 'lavazs_loss': lavazs_loss"
   ]
  },
  {
   "cell_type": "markdown",
   "metadata": {},
   "source": [
    "# Train evaluation"
   ]
  },
  {
   "cell_type": "code",
   "execution_count": 20,
   "metadata": {},
   "outputs": [],
   "source": [
    "val_gen = AlbuDataGenerator(validate_images, validate_masks, batch_size=test_batch_size, nn_image_size = nn_image_size, shuffle=False)"
   ]
  },
  {
   "cell_type": "code",
   "execution_count": 21,
   "metadata": {},
   "outputs": [],
   "source": [
    "sys.path.append('../3rd_party/keras-tqdm')\n",
    "from keras_tqdm import TQDMCallback, TQDMNotebookCallback"
   ]
  },
  {
   "cell_type": "code",
   "execution_count": 28,
   "metadata": {},
   "outputs": [
    {
     "name": "stdout",
     "output_type": "stream",
     "text": [
      "0 [0.11173935164697468, 0.9571719542145729, 0.8305]\n",
      "1 [0.10170613345690072, 0.9615404717624187, 0.8240000000000001]\n",
      "2 [0.1192251245956868, 0.9543693661689758, 0.815625]\n",
      "3 [0.11709983786568046, 0.9559994339942932, 0.806875]\n",
      "4 [0.1189550266135484, 0.9540063664317131, 0.8207499999999999]\n",
      "5 [0.12670886935666203, 0.9541661106050014, 0.8101249999999999]\n",
      "6 [0.11540585360489786, 0.9502251334488392, 0.8075]\n",
      "7 [0.1175463693216443, 0.9557234570384026, 0.8217500000000001]\n",
      "8 [0.12378048384562135, 0.9542752802371979, 0.8237500000000001]\n",
      "9 [0.108380924211815, 0.9576830267906189, 0.80475]\n"
     ]
    },
    {
     "data": {
      "text/plain": [
       "0.6293777858403822"
      ]
     },
     "execution_count": 28,
     "metadata": {},
     "output_type": "execute_result"
    }
   ],
   "source": [
    "eval_res = []\n",
    "for i in range (10):\n",
    "    r = model.evaluate_generator(val_gen, max_queue_size=10, workers=5, use_multiprocessing=False)\n",
    "    eval_res.append(r)\n",
    "    print (i,r)\n",
    "np.mean(np.array(eval_res)[:, 2]), np.std(np.array(eval_res)[:, 2]) "
   ]
  },
  {
   "cell_type": "code",
   "execution_count": 31,
   "metadata": {},
   "outputs": [
    {
     "data": {
      "text/plain": [
       "(0.8165625000000001, 0.00838753725774142)"
      ]
     },
     "execution_count": 31,
     "metadata": {},
     "output_type": "execute_result"
    }
   ],
   "source": [
    "np.mean(np.array(eval_res)[:, 2]), np.std(np.array(eval_res)[:, 2]) "
   ]
  },
  {
   "cell_type": "markdown",
   "metadata": {},
   "source": [
    "# Single model output"
   ]
  },
  {
   "cell_type": "code",
   "execution_count": 32,
   "metadata": {},
   "outputs": [],
   "source": [
    "def PredictByTiles(imgs, n):\n",
    "    '''\n",
    "    imgs of size (303x303x3)\n",
    "    n  - tiles are n*n\n",
    "    -> mask (303x303, float)\n",
    "    '''\n",
    "    np_imgs = np.array(imgs)\n",
    "    print (np_imgs.shape)\n",
    "    mask_enlarged = np.zeros(np.array(imgs).shape[:-1], dtype = np.float32)\n",
    "    mask_counters = np.zeros(np.array(imgs).shape[:-1], dtype = np.int)\n",
    "    if n>1:\n",
    "        hstep = (augmented_image_size - nn_image_size)//(n-1)\n",
    "        vstep = (augmented_image_size - nn_image_size)//(n-1)\n",
    "    for i in range(n):\n",
    "        top = i*vstep if i != n-1 else augmented_image_size-nn_image_size\n",
    "        for j in range(n):\n",
    "            left = j*hstep if j != n-1 else augmented_image_size-nn_image_size\n",
    "            sub_imgs = np_imgs[:, top:top+nn_image_size, left:left+nn_image_size, :]\n",
    "            print (sub_imgs.shape, i, j)\n",
    "            predicts = model.predict(sub_imgs).reshape(-1, sub_imgs.shape[1], sub_imgs.shape[2])\n",
    "            sub_mask = mask_enlarged[:, top:top+nn_image_size, left:left+nn_image_size]\n",
    "            sub_mask_counters = mask_counters[:, top:top+nn_image_size, left:left+nn_image_size]\n",
    "            assert sub_mask.shape == predicts.shape\n",
    "            assert sub_mask_counters.shape == predicts.shape\n",
    "            sub_mask += predicts\n",
    "            sub_mask_counters += 1\n",
    "    if n>1:\n",
    "        mask_enlarged = np.divide(mask_enlarged, mask_counters)\n",
    "    return mask_enlarged\n",
    "    "
   ]
  },
  {
   "cell_type": "code",
   "execution_count": 33,
   "metadata": {},
   "outputs": [],
   "source": [
    "def PredictByTilesAndFlip(df_enlarge, n):\n",
    "    mask_float =      PredictByTiles(df_enlarge, n)\n",
    "    \n",
    "    df_enlarge_flip = [np.fliplr(x) for x in df_enlarge]\n",
    "    mask_float_flip = PredictByTiles(df_enlarge_flip, n)\n",
    "    mask_float = 0.5*(mask_float + np.array([np.fliplr(a) for a in mask_float_flip]))\n",
    "    is_empty_imgs = [np.sum(x) == 0 for x in df_enlarge]\n",
    "    mask_float[is_empty_imgs,...] = 0\n",
    "    \n",
    "    return mask_float"
   ]
  },
  {
   "cell_type": "code",
   "execution_count": 34,
   "metadata": {},
   "outputs": [],
   "source": [
    "def Predict(df, n = 2, threshold=0.5):\n",
    "    df_enlarge = [cv2.resize((x - mean_val)/mean_std, (augmented_image_size, augmented_image_size)) for x in df]\n",
    "    mask_float = PredictByTilesAndFlip(df_enlarge, n)\n",
    "    mask_ori = [cv2.resize(np.array(filter_image(img),dtype = np.float32), df[0].shape[:2]) for img in mask_float > threshold]\n",
    "    return mask_ori"
   ]
  },
  {
   "cell_type": "code",
   "execution_count": 35,
   "metadata": {},
   "outputs": [],
   "source": [
    "df = validate_images\n",
    "# enlarge and normalize\n",
    "df_enlarge = [cv2.resize((x - mean_val)/mean_std, (augmented_image_size, augmented_image_size)) for x in df]\n",
    "n = 2"
   ]
  },
  {
   "cell_type": "code",
   "execution_count": 36,
   "metadata": {},
   "outputs": [
    {
     "name": "stdout",
     "output_type": "stream",
     "text": [
      "(784, 303, 303, 3)\n",
      "(784, 224, 224, 3) 0 0\n",
      "(784, 224, 224, 3) 0 1\n",
      "(784, 224, 224, 3) 1 0\n",
      "(784, 224, 224, 3) 1 1\n",
      "(784, 303, 303, 3)\n",
      "(784, 224, 224, 3) 0 0\n",
      "(784, 224, 224, 3) 0 1\n",
      "(784, 224, 224, 3) 1 0\n",
      "(784, 224, 224, 3) 1 1\n"
     ]
    }
   ],
   "source": [
    "mask_float = PredictByTilesAndFlip(df_enlarge, n)\n"
   ]
  },
  {
   "cell_type": "code",
   "execution_count": 37,
   "metadata": {},
   "outputs": [],
   "source": [
    "del df_enlarge"
   ]
  },
  {
   "cell_type": "code",
   "execution_count": 38,
   "metadata": {},
   "outputs": [
    {
     "data": {
      "text/plain": [
       "5"
      ]
     },
     "execution_count": 38,
     "metadata": {},
     "output_type": "execute_result"
    }
   ],
   "source": [
    "import gc\n",
    "gc.collect()"
   ]
  },
  {
   "cell_type": "code",
   "execution_count": 39,
   "metadata": {},
   "outputs": [],
   "source": [
    "if n==1:\n",
    "    validate_masks = [cv2.resize(cv2.resize(x,(303,303))[:224,:224], (101,101)) for x in validate_masks]"
   ]
  },
  {
   "cell_type": "code",
   "execution_count": 40,
   "metadata": {},
   "outputs": [],
   "source": [
    "if n==1:\n",
    "    mask_float = [cv2.resize(cv2.resize(x,(303,303))[:224,:224], (101,101)) for x in mask_float]"
   ]
  },
  {
   "cell_type": "code",
   "execution_count": null,
   "metadata": {},
   "outputs": [],
   "source": []
  },
  {
   "cell_type": "code",
   "execution_count": 41,
   "metadata": {},
   "outputs": [],
   "source": [
    "def filter_image(img):\n",
    "    if img.sum() < 100:\n",
    "        return np.zeros(img.shape)\n",
    "    else:\n",
    "        return img"
   ]
  },
  {
   "cell_type": "code",
   "execution_count": 42,
   "metadata": {},
   "outputs": [
    {
     "data": {
      "application/vnd.jupyter.widget-view+json": {
       "model_id": "7f5ad31289ed4c4da9f519a160ab3c34",
       "version_major": 2,
       "version_minor": 0
      },
      "text/html": [
       "<p>Failed to display Jupyter Widget of type <code>HBox</code>.</p>\n",
       "<p>\n",
       "  If you're reading this message in the Jupyter Notebook or JupyterLab Notebook, it may mean\n",
       "  that the widgets JavaScript is still loading. If this message persists, it\n",
       "  likely means that the widgets JavaScript library is either not installed or\n",
       "  not enabled. See the <a href=\"https://ipywidgets.readthedocs.io/en/stable/user_install.html\">Jupyter\n",
       "  Widgets Documentation</a> for setup instructions.\n",
       "</p>\n",
       "<p>\n",
       "  If you're reading this message in another frontend (for example, a static\n",
       "  rendering on GitHub or <a href=\"https://nbviewer.jupyter.org/\">NBViewer</a>),\n",
       "  it may mean that your frontend doesn't currently support widgets.\n",
       "</p>\n"
      ],
      "text/plain": [
       "HBox(children=(IntProgress(value=0, max=31), HTML(value='')))"
      ]
     },
     "metadata": {},
     "output_type": "display_data"
    },
    {
     "name": "stdout",
     "output_type": "stream",
     "text": [
      "\n"
     ]
    }
   ],
   "source": [
    "## Scoring for last model\n",
    "thresholds = np.linspace(0.3, 0.7, 31)\n",
    "ious = np.array([iou_metric_batch(validate_masks, [cv2.resize(np.array(filter_image(img),dtype = np.float32), validate_masks[0].shape) for img in mask_float > threshold]) for threshold in tqdm_notebook(thresholds)])\n"
   ]
  },
  {
   "cell_type": "code",
   "execution_count": 43,
   "metadata": {},
   "outputs": [
    {
     "data": {
      "text/plain": [
       "<matplotlib.legend.Legend at 0x16fd7607f28>"
      ]
     },
     "execution_count": 43,
     "metadata": {},
     "output_type": "execute_result"
    },
    {
     "data": {
      "image/png": "[encoded data removed]",
      "text/plain": [
       "<Figure size 432x288 with 1 Axes>"
      ]
     },
     "metadata": {},
     "output_type": "display_data"
    }
   ],
   "source": [
    "threshold_best_index = np.argmax(ious) \n",
    "iou_best = ious[threshold_best_index]\n",
    "threshold_best = thresholds[threshold_best_index]\n",
    "\n",
    "plt.plot(thresholds, ious)\n",
    "plt.plot(threshold_best, iou_best, \"xr\", label=\"Best threshold\")\n",
    "plt.xlabel(\"Threshold\")\n",
    "plt.ylabel(\"IoU\")\n",
    "plt.title(\"Threshold vs IoU ({}, {})\".format(threshold_best, iou_best))\n",
    "plt.legend()"
   ]
  },
  {
   "cell_type": "code",
   "execution_count": 44,
   "metadata": {},
   "outputs": [
    {
     "data": {
      "text/plain": [
       "0.58"
      ]
     },
     "execution_count": 44,
     "metadata": {},
     "output_type": "execute_result"
    }
   ],
   "source": [
    "threshold_best"
   ]
  },
  {
   "cell_type": "code",
   "execution_count": 45,
   "metadata": {},
   "outputs": [],
   "source": [
    "def rle_encode(im):\n",
    "    pixels = im.flatten(order = 'F')\n",
    "    pixels = np.concatenate([[0], pixels, [0]])\n",
    "    runs = np.where(pixels[1:] != pixels[:-1])[0] + 1\n",
    "    runs[1::2] -= runs[::2]\n",
    "    return ' '.join(str(x) for x in runs)"
   ]
  },
  {
   "cell_type": "code",
   "execution_count": 46,
   "metadata": {
    "scrolled": false
   },
   "outputs": [
    {
     "name": "stdout",
     "output_type": "stream",
     "text": [
      "(2000, 303, 303, 3)\n",
      "(2000, 224, 224, 3) 0 0\n",
      "(2000, 224, 224, 3) 0 1\n",
      "(2000, 224, 224, 3) 1 0\n",
      "(2000, 224, 224, 3) 1 1\n",
      "(2000, 303, 303, 3)\n",
      "(2000, 224, 224, 3) 0 0\n",
      "(2000, 224, 224, 3) 0 1\n",
      "(2000, 224, 224, 3) 1 0\n",
      "(2000, 224, 224, 3) 1 1\n",
      "2000\n",
      "(2000, 303, 303, 3)\n",
      "(2000, 224, 224, 3) 0 0\n",
      "(2000, 224, 224, 3) 0 1\n",
      "(2000, 224, 224, 3) 1 0\n",
      "(2000, 224, 224, 3) 1 1\n",
      "(2000, 303, 303, 3)\n",
      "(2000, 224, 224, 3) 0 0\n",
      "(2000, 224, 224, 3) 0 1\n",
      "(2000, 224, 224, 3) 1 0\n",
      "(2000, 224, 224, 3) 1 1\n",
      "4000\n",
      "(2000, 303, 303, 3)\n",
      "(2000, 224, 224, 3) 0 0\n",
      "(2000, 224, 224, 3) 0 1\n",
      "(2000, 224, 224, 3) 1 0\n",
      "(2000, 224, 224, 3) 1 1\n",
      "(2000, 303, 303, 3)\n",
      "(2000, 224, 224, 3) 0 0\n",
      "(2000, 224, 224, 3) 0 1\n",
      "(2000, 224, 224, 3) 1 0\n",
      "(2000, 224, 224, 3) 1 1\n",
      "6000\n",
      "(2000, 303, 303, 3)\n",
      "(2000, 224, 224, 3) 0 0\n",
      "(2000, 224, 224, 3) 0 1\n",
      "(2000, 224, 224, 3) 1 0\n",
      "(2000, 224, 224, 3) 1 1\n",
      "(2000, 303, 303, 3)\n",
      "(2000, 224, 224, 3) 0 0\n",
      "(2000, 224, 224, 3) 0 1\n",
      "(2000, 224, 224, 3) 1 0\n",
      "(2000, 224, 224, 3) 1 1\n",
      "8000\n",
      "(2000, 303, 303, 3)\n",
      "(2000, 224, 224, 3) 0 0\n",
      "(2000, 224, 224, 3) 0 1\n",
      "(2000, 224, 224, 3) 1 0\n",
      "(2000, 224, 224, 3) 1 1\n",
      "(2000, 303, 303, 3)\n",
      "(2000, 224, 224, 3) 0 0\n",
      "(2000, 224, 224, 3) 0 1\n",
      "(2000, 224, 224, 3) 1 0\n",
      "(2000, 224, 224, 3) 1 1\n",
      "10000\n",
      "(2000, 303, 303, 3)\n",
      "(2000, 224, 224, 3) 0 0\n",
      "(2000, 224, 224, 3) 0 1\n",
      "(2000, 224, 224, 3) 1 0\n",
      "(2000, 224, 224, 3) 1 1\n",
      "(2000, 303, 303, 3)\n",
      "(2000, 224, 224, 3) 0 0\n",
      "(2000, 224, 224, 3) 0 1\n",
      "(2000, 224, 224, 3) 1 0\n",
      "(2000, 224, 224, 3) 1 1\n",
      "12000\n",
      "(2000, 303, 303, 3)\n",
      "(2000, 224, 224, 3) 0 0\n",
      "(2000, 224, 224, 3) 0 1\n",
      "(2000, 224, 224, 3) 1 0\n",
      "(2000, 224, 224, 3) 1 1\n",
      "(2000, 303, 303, 3)\n",
      "(2000, 224, 224, 3) 0 0\n",
      "(2000, 224, 224, 3) 0 1\n",
      "(2000, 224, 224, 3) 1 0\n",
      "(2000, 224, 224, 3) 1 1\n",
      "14000\n",
      "(2000, 303, 303, 3)\n",
      "(2000, 224, 224, 3) 0 0\n",
      "(2000, 224, 224, 3) 0 1\n",
      "(2000, 224, 224, 3) 1 0\n",
      "(2000, 224, 224, 3) 1 1\n",
      "(2000, 303, 303, 3)\n",
      "(2000, 224, 224, 3) 0 0\n",
      "(2000, 224, 224, 3) 0 1\n",
      "(2000, 224, 224, 3) 1 0\n",
      "(2000, 224, 224, 3) 1 1\n",
      "16000\n",
      "(2000, 303, 303, 3)\n",
      "(2000, 224, 224, 3) 0 0\n",
      "(2000, 224, 224, 3) 0 1\n",
      "(2000, 224, 224, 3) 1 0\n",
      "(2000, 224, 224, 3) 1 1\n",
      "(2000, 303, 303, 3)\n",
      "(2000, 224, 224, 3) 0 0\n",
      "(2000, 224, 224, 3) 0 1\n",
      "(2000, 224, 224, 3) 1 0\n",
      "(2000, 224, 224, 3) 1 1\n",
      "18000\n"
     ]
    }
   ],
   "source": [
    "pos = 0\n",
    "step = 2000\n",
    "\n",
    "while pos < len(test_images):\n",
    "    if pos == 0:\n",
    "        preds_test = Predict(test_images[pos:pos+step], n = n, threshold = threshold_best)\n",
    "    else:\n",
    "        preds_test += Predict(test_images[pos:pos+step], n = n, threshold = threshold_best)\n",
    "    pos = pos+step\n",
    "    print(len(preds_test))"
   ]
  },
  {
   "cell_type": "code",
   "execution_count": 47,
   "metadata": {},
   "outputs": [
    {
     "data": {
      "text/plain": [
       "18000"
      ]
     },
     "execution_count": 47,
     "metadata": {},
     "output_type": "execute_result"
    }
   ],
   "source": [
    "len(preds_test)"
   ]
  },
  {
   "cell_type": "code",
   "execution_count": 48,
   "metadata": {},
   "outputs": [
    {
     "data": {
      "application/vnd.jupyter.widget-view+json": {
       "model_id": "ed5a687046c84a109a5996d77bdcf923",
       "version_major": 2,
       "version_minor": 0
      },
      "text/html": [
       "<p>Failed to display Jupyter Widget of type <code>HBox</code>.</p>\n",
       "<p>\n",
       "  If you're reading this message in the Jupyter Notebook or JupyterLab Notebook, it may mean\n",
       "  that the widgets JavaScript is still loading. If this message persists, it\n",
       "  likely means that the widgets JavaScript library is either not installed or\n",
       "  not enabled. See the <a href=\"https://ipywidgets.readthedocs.io/en/stable/user_install.html\">Jupyter\n",
       "  Widgets Documentation</a> for setup instructions.\n",
       "</p>\n",
       "<p>\n",
       "  If you're reading this message in another frontend (for example, a static\n",
       "  rendering on GitHub or <a href=\"https://nbviewer.jupyter.org/\">NBViewer</a>),\n",
       "  it may mean that your frontend doesn't currently support widgets.\n",
       "</p>\n"
      ],
      "text/plain": [
       "HBox(children=(IntProgress(value=0, max=18000), HTML(value='')))"
      ]
     },
     "metadata": {},
     "output_type": "display_data"
    },
    {
     "name": "stdout",
     "output_type": "stream",
     "text": [
      "\n",
      "Usedtime = 3.8733534812927246 s\n"
     ]
    }
   ],
   "source": [
    "import time\n",
    "t1 = time.time()\n",
    "pred_dict = {idx: rle_encode(filter_image(preds_test[i] > threshold_best)) for i, idx in enumerate(tqdm_notebook(test_df.index.values))}\n",
    "t2 = time.time()\n",
    "\n",
    "print(f\"Usedtime = {t2-t1} s\")"
   ]
  },
  {
   "cell_type": "code",
   "execution_count": 49,
   "metadata": {},
   "outputs": [],
   "source": [
    "sub = pd.DataFrame.from_dict(pred_dict,orient='index')\n",
    "sub.index.names = ['id']\n",
    "sub.columns = ['rle_mask']\n",
    "sub.to_csv(model_out_file+'.submission.csv.gz', compression = 'gzip')"
   ]
  },
  {
   "cell_type": "code",
   "execution_count": 50,
   "metadata": {},
   "outputs": [
    {
     "data": {
      "text/html": [
       "<div>\n",
       "<style scoped>\n",
       "    .dataframe tbody tr th:only-of-type {\n",
       "        vertical-align: middle;\n",
       "    }\n",
       "\n",
       "    .dataframe tbody tr th {\n",
       "        vertical-align: top;\n",
       "    }\n",
       "\n",
       "    .dataframe thead th {\n",
       "        text-align: right;\n",
       "    }\n",
       "</style>\n",
       "<table border=\"1\" class=\"dataframe\">\n",
       "  <thead>\n",
       "    <tr style=\"text-align: right;\">\n",
       "      <th></th>\n",
       "      <th>rle_mask</th>\n",
       "    </tr>\n",
       "    <tr>\n",
       "      <th>id</th>\n",
       "      <th></th>\n",
       "    </tr>\n",
       "  </thead>\n",
       "  <tbody>\n",
       "    <tr>\n",
       "      <th>353e010b7b</th>\n",
       "      <td></td>\n",
       "    </tr>\n",
       "    <tr>\n",
       "      <th>5439dbbddf</th>\n",
       "      <td></td>\n",
       "    </tr>\n",
       "    <tr>\n",
       "      <th>71bab9f311</th>\n",
       "      <td></td>\n",
       "    </tr>\n",
       "    <tr>\n",
       "      <th>52551f7a80</th>\n",
       "      <td></td>\n",
       "    </tr>\n",
       "    <tr>\n",
       "      <th>512d8d9997</th>\n",
       "      <td>809 1 910 3 1011 3 1112 3 1117 8 1213 16 1314 ...</td>\n",
       "    </tr>\n",
       "    <tr>\n",
       "      <th>64dba827d6</th>\n",
       "      <td></td>\n",
       "    </tr>\n",
       "    <tr>\n",
       "      <th>0a3a8a5f37</th>\n",
       "      <td></td>\n",
       "    </tr>\n",
       "    <tr>\n",
       "      <th>329563756f</th>\n",
       "      <td>1 4645 4647 100 4748 100 4849 98 4950 98 5051 ...</td>\n",
       "    </tr>\n",
       "    <tr>\n",
       "      <th>f6cba2e890</th>\n",
       "      <td></td>\n",
       "    </tr>\n",
       "    <tr>\n",
       "      <th>989c646373</th>\n",
       "      <td></td>\n",
       "    </tr>\n",
       "  </tbody>\n",
       "</table>\n",
       "</div>"
      ],
      "text/plain": [
       "                                                     rle_mask\n",
       "id                                                           \n",
       "353e010b7b                                                   \n",
       "5439dbbddf                                                   \n",
       "71bab9f311                                                   \n",
       "52551f7a80                                                   \n",
       "512d8d9997  809 1 910 3 1011 3 1112 3 1117 8 1213 16 1314 ...\n",
       "64dba827d6                                                   \n",
       "0a3a8a5f37                                                   \n",
       "329563756f  1 4645 4647 100 4748 100 4849 98 4950 98 5051 ...\n",
       "f6cba2e890                                                   \n",
       "989c646373                                                   "
      ]
     },
     "execution_count": 50,
     "metadata": {},
     "output_type": "execute_result"
    }
   ],
   "source": [
    "sub.head(10)"
   ]
  },
  {
   "cell_type": "code",
   "execution_count": null,
   "metadata": {},
   "outputs": [],
   "source": [
    "preds_test2 = filter_image(preds_test > threshold_best)\n",
    "test_df['pred']= None\n",
    "for i, idx in enumerate(tqdm_notebook(test_df.index.values)\n",
    "    test_df.loc[idx, 'pred'] = preds_test2[i]\n"
   ]
  },
  {
   "cell_type": "code",
   "execution_count": null,
   "metadata": {},
   "outputs": [],
   "source": [
    "preds_test.shape, preds_test2.shape"
   ]
  }
 ],
 "metadata": {
  "kernelspec": {
   "display_name": "Python 3",
   "language": "python",
   "name": "python3"
  },
  "language_info": {
   "codemirror_mode": {
    "name": "ipython",
    "version": 3
   },
   "file_extension": ".py",
   "mimetype": "text/x-python",
   "name": "python",
   "nbconvert_exporter": "python",
   "pygments_lexer": "ipython3",
   "version": "3.6.4"
  }
 },
 "nbformat": 4,
 "nbformat_minor": 2
}
