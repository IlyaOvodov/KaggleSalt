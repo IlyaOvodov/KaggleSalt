{
 "cells": [
  {
   "cell_type": "code",
   "execution_count": null,
   "metadata": {},
   "outputs": [],
   "source": [
    "params_file = 'models_3/c2814d_5FnnLayers_f1_649c9f'\n",
    "model_no = '.14'\n",
    "eval_crop_size = 128"
   ]
  },
  {
   "cell_type": "code",
   "execution_count": null,
   "metadata": {},
   "outputs": [],
   "source": [
    "from run_seg_test import LoadModelParams\n",
    "params = LoadModelParams(params_file)\n",
    "params.load_model_from = params_file + model_no + '.model'"
   ]
  },
  {
   "cell_type": "markdown",
   "metadata": {},
   "source": [
    "# Load data"
   ]
  },
  {
   "cell_type": "code",
   "execution_count": null,
   "metadata": {},
   "outputs": [],
   "source": [
    "import sys\n",
    "#sys.path.append(r'D:\\Programming\\3rd_party\\keras')"
   ]
  },
  {
   "cell_type": "code",
   "execution_count": null,
   "metadata": {
    "scrolled": false
   },
   "outputs": [],
   "source": [
    "import sys\n",
    "from imp import reload\n",
    "import numpy as np\n",
    "import matplotlib.pyplot as plt\n",
    "plt.style.use('seaborn-white')\n",
    "import seaborn as sns\n",
    "sns.set_style(\"white\")\n",
    "import pandas as pd\n",
    "\n",
    "import keras\n",
    "\n",
    "from keras.models import Model, load_model\n",
    "from keras.layers import Input,Dropout,BatchNormalization,Activation,Add\n",
    "from keras.layers.core import Lambda\n",
    "from keras.layers.convolutional import Conv2D, Conv2DTranspose\n",
    "from keras.layers.pooling import MaxPooling2D\n",
    "from keras.layers.merge import concatenate\n",
    "from keras.callbacks import EarlyStopping, ModelCheckpoint, ReduceLROnPlateau\n",
    "from keras import backend as K\n",
    "\n",
    "import tensorflow as tf\n",
    "\n",
    "from skimage.transform import resize\n",
    "import cv2\n",
    "from tqdm import tqdm_notebook"
   ]
  },
  {
   "cell_type": "code",
   "execution_count": null,
   "metadata": {},
   "outputs": [],
   "source": [
    "import load_data\n",
    "load_data = reload(load_data)"
   ]
  },
  {
   "cell_type": "code",
   "execution_count": null,
   "metadata": {},
   "outputs": [],
   "source": [
    "DEV_MODE_RANGE = 0 # off"
   ]
  },
  {
   "cell_type": "code",
   "execution_count": null,
   "metadata": {},
   "outputs": [],
   "source": [
    "train_df = load_data.LoadData(train_data = True, DEV_MODE_RANGE = DEV_MODE_RANGE)"
   ]
  },
  {
   "cell_type": "code",
   "execution_count": null,
   "metadata": {},
   "outputs": [],
   "source": [
    "test_df = load_data.LoadData(train_data = False, DEV_MODE_RANGE = DEV_MODE_RANGE)"
   ]
  },
  {
   "cell_type": "code",
   "execution_count": null,
   "metadata": {},
   "outputs": [],
   "source": [
    "test_fold_no = 1"
   ]
  },
  {
   "cell_type": "code",
   "execution_count": null,
   "metadata": {
    "scrolled": true
   },
   "outputs": [],
   "source": [
    "train_images, train_masks, validate_images, validate_masks = load_data.SplitTrainData(train_df, test_fold_no)\n",
    "validate_images.shape, validate_masks.shape"
   ]
  },
  {
   "cell_type": "code",
   "execution_count": null,
   "metadata": {},
   "outputs": [],
   "source": [
    "test_images = test_df.images\n",
    "test_images.shape"
   ]
  },
  {
   "cell_type": "markdown",
   "metadata": {},
   "source": [
    "# IOU metric"
   ]
  },
  {
   "cell_type": "code",
   "execution_count": null,
   "metadata": {},
   "outputs": [],
   "source": [
    "thresholds = np.array([0.5, 0.55, 0.6, 0.65, 0.7, 0.75, 0.8, 0.85, 0.9, 0.95])\n",
    "\n",
    "def iou(img_true, img_pred):\n",
    "    assert (img_true.shape[-1]==1) and (len(img_true.shape)==3) or (img_true.shape[-1]!=1) and (len(img_true.shape)==2)\n",
    "    i = np.sum((img_true*img_pred) >0)\n",
    "    u = np.sum((img_true + img_pred) >0)\n",
    "    if u == 0:\n",
    "        return 1\n",
    "    return i/u\n",
    "\n",
    "def iou_metric(img_true, img_pred):\n",
    "    img_pred = img_pred > 0.5 # added by sgx 20180728\n",
    "    if img_true.sum() == img_pred.sum() == 0:\n",
    "        scores = 1\n",
    "    else:\n",
    "        scores = (thresholds <= iou(img_true, img_pred)).mean()\n",
    "    return scores\n",
    "\n",
    "def iou_metric_batch(y_true_in, y_pred_in):\n",
    "    batch_size = len(y_true_in)\n",
    "    metric = []\n",
    "    for batch in range(batch_size):\n",
    "        value = iou_metric(y_true_in[batch], y_pred_in[batch])\n",
    "        metric.append(value)\n",
    "    #print(\"metric = \",metric)\n",
    "    return np.mean(metric)\n",
    "\n",
    "# adapter for Keras\n",
    "def my_iou_metric(label, pred):\n",
    "    metric_value = tf.py_func(iou_metric_batch, [label, pred], tf.float64)\n",
    "    return metric_value"
   ]
  },
  {
   "cell_type": "markdown",
   "metadata": {},
   "source": [
    "# model"
   ]
  },
  {
   "cell_type": "code",
   "execution_count": null,
   "metadata": {},
   "outputs": [],
   "source": [
    "\n",
    "#del AlbuDataGenerator"
   ]
  },
  {
   "cell_type": "code",
   "execution_count": null,
   "metadata": {},
   "outputs": [],
   "source": [
    "sys.path.append('../3rd_party/segmentation_models')\n",
    "import segmentation_models\n",
    "segmentation_models = reload(segmentation_models)\n",
    "from segmentation_models.utils import set_trainable\n",
    "from my_augs import AlbuDataGenerator"
   ]
  },
  {
   "cell_type": "code",
   "execution_count": null,
   "metadata": {},
   "outputs": [],
   "source": [
    "from distutils.version import StrictVersion"
   ]
  },
  {
   "cell_type": "code",
   "execution_count": null,
   "metadata": {},
   "outputs": [],
   "source": [
    "StrictVersion(keras.__version__)"
   ]
  },
  {
   "cell_type": "code",
   "execution_count": null,
   "metadata": {},
   "outputs": [],
   "source": [
    "if StrictVersion(keras.__version__) < StrictVersion('2.2.3'):\n",
    "    print('Old Keras {}'.format(StrictVersion(keras.__version__)))\n",
    "    UpSampling2DLayerClass = segmentation_models.fpn.layers.UpSampling2D\n",
    "else:\n",
    "    UpSampling2DLayerClass = keras.layers.UpSampling2D\n",
    "custom_objects={'my_iou_metric': my_iou_metric,\n",
    "                'UpSampling2D': UpSampling2DLayerClass}\n",
    "print(UpSampling2DLayerClass)\n"
   ]
  },
  {
   "cell_type": "code",
   "execution_count": null,
   "metadata": {},
   "outputs": [],
   "source": [
    "model1 = load_model(params.load_model_from,\n",
    "                   #custom_objects={'my_iou_metric': my_iou_metric} + custom_objects\n",
    "                   custom_objects=custom_objects\n",
    "                   )\n",
    "print('MODEL LOADED from: ' + params.load_model_from)"
   ]
  },
  {
   "cell_type": "code",
   "execution_count": null,
   "metadata": {},
   "outputs": [],
   "source": [
    "model = None\n",
    "if params.model == 'FNN':\n",
    "    model = segmentation_models.FPN(backbone_name=params.backbone, input_shape=(None, None, params.channels),\n",
    "                                    encoder_weights=params.initial_weightns, freeze_encoder=True,\n",
    "                                    dropout = params.dropout,\n",
    "                                            **params.model_params)\n",
    "if params.model == 'FNNdrop':\n",
    "    model = segmentation_models.FPNdrop(backbone_name=params.backbone, input_shape=(None, None, params.channels),\n",
    "                                    encoder_weights=params.initial_weightns, freeze_encoder=True,\n",
    "                                    dropout = params.dropout,\n",
    "                                            **params.model_params)\n",
    "if params.model == 'Unet':\n",
    "    model = segmentation_models.Unet(backbone_name=params.backbone, input_shape=(None, None, params.channels),\n",
    "                                     encoder_weights=params.initial_weightns, freeze_encoder=True,\n",
    "                                            **params.model_params)\n",
    "if params.model == 'Linknet':\n",
    "    model = segmentation_models.Linknet(backbone_name=params.backbone, input_shape=(None, None, params.channels),\n",
    "                                        encoder_weights=params.initial_weightns, freeze_encoder=True,\n",
    "                                            **params.model_params)\n",
    "if params.model == 'divrikwicky':\n",
    "    model = keras_unet_divrikwicky_model.CreateModel(params.nn_image_size,\n",
    "                                            **params.model_params)\n",
    "    params.backbone = ''\n",
    "assert model\n"
   ]
  },
  {
   "cell_type": "code",
   "execution_count": null,
   "metadata": {},
   "outputs": [],
   "source": [
    "model.set_weights(model1.get_weights()) "
   ]
  },
  {
   "cell_type": "code",
   "execution_count": null,
   "metadata": {},
   "outputs": [],
   "source": [
    "optimizer=params.optimizer\n",
    "if optimizer == 'adam':\n",
    "    optimizer = keras.optimizers.adam(**params.optimizer_params)\n",
    "elif optimizer == 'sgd':\n",
    "    optimizer = keras.optimizers.sgd(**params.optimizer_params)\n"
   ]
  },
  {
   "cell_type": "code",
   "execution_count": null,
   "metadata": {},
   "outputs": [],
   "source": [
    "for l in model.layers:\n",
    "    if isinstance(l, UpSampling2DLayerClass):\n",
    "        if hasattr(l, 'interpolation'):\n",
    "            print(l.interpolation)\n",
    "            #l.interpolation = params.interpolation\n",
    "        else:\n",
    "            print('qq')\n",
    "        "
   ]
  },
  {
   "cell_type": "code",
   "execution_count": null,
   "metadata": {},
   "outputs": [],
   "source": [
    "model.compile(loss=\"binary_crossentropy\", optimizer=optimizer, metrics=[\"acc\", my_iou_metric]) #, my_iou_metric\n"
   ]
  },
  {
   "cell_type": "markdown",
   "metadata": {},
   "source": [
    "# Test (try to reproduce) train validaton"
   ]
  },
  {
   "cell_type": "code",
   "execution_count": null,
   "metadata": {},
   "outputs": [],
   "source": [
    "mean_val = 0.481577\n",
    "mean_std = 0.11108\n",
    "mean_val, mean_std \n"
   ]
  },
  {
   "cell_type": "code",
   "execution_count": null,
   "metadata": {},
   "outputs": [],
   "source": [
    "val_gen = AlbuDataGenerator(validate_images, validate_masks, batch_size=params.test_batch_size,nn_image_size = params.nn_image_size,\n",
    "                            mode = 'inference', shuffle=False, params = params, mean=(mean_val, mean_std),\n",
    "                           use_ceil = False)\n"
   ]
  },
  {
   "cell_type": "code",
   "execution_count": null,
   "metadata": {},
   "outputs": [],
   "source": [
    "model.evaluate_generator(val_gen, steps=1*len(val_gen), max_queue_size=10, workers=1, use_multiprocessing=False, verbose=0)"
   ]
  },
  {
   "cell_type": "markdown",
   "metadata": {},
   "source": [
    "# Train evaluation"
   ]
  },
  {
   "cell_type": "code",
   "execution_count": null,
   "metadata": {},
   "outputs": [],
   "source": [
    "sys.path.insert(1, '../3rd_party/albumentations')\n",
    "sys.path.insert(1, '../3rd_party/imgaug')\n",
    "import albumentations"
   ]
  },
  {
   "cell_type": "code",
   "execution_count": null,
   "metadata": {},
   "outputs": [],
   "source": [
    "mean_val = 0.481577\n",
    "mean_std = 0.11108\n",
    "mean_val, mean_std "
   ]
  },
  {
   "cell_type": "code",
   "execution_count": null,
   "metadata": {},
   "outputs": [],
   "source": [
    "orig_nn_image_size = params.nn_image_size\n",
    "params.nn_image_size = eval_crop_size #params.padded_image_size"
   ]
  },
  {
   "cell_type": "code",
   "execution_count": null,
   "metadata": {},
   "outputs": [],
   "source": [
    "from my_augs import AlbuDataGenerator\n"
   ]
  },
  {
   "cell_type": "code",
   "execution_count": null,
   "metadata": {},
   "outputs": [],
   "source": [
    "val_gen = AlbuDataGenerator(validate_images, validate_masks, batch_size=params.test_batch_size, nn_image_size = params.nn_image_size,\n",
    "                            mode = 'inference', shuffle=False, params = params, mean=(mean_val, mean_std),\n",
    "                           use_ceil = False)"
   ]
  },
  {
   "cell_type": "code",
   "execution_count": null,
   "metadata": {},
   "outputs": [],
   "source": [
    "sys.path.append('../3rd_party/keras-tqdm')\n",
    "from keras_tqdm import TQDMCallback, TQDMNotebookCallback"
   ]
  },
  {
   "cell_type": "code",
   "execution_count": null,
   "metadata": {},
   "outputs": [],
   "source": [
    "r = model.predict_generator(val_gen, max_queue_size=10, workers=1, use_multiprocessing=False)"
   ]
  },
  {
   "cell_type": "code",
   "execution_count": null,
   "metadata": {},
   "outputs": [],
   "source": [
    "r.shape"
   ]
  },
  {
   "cell_type": "code",
   "execution_count": null,
   "metadata": {},
   "outputs": [],
   "source": [
    "r = r[:validate_images.shape[0], ...] # if ceil, r dim is higher"
   ]
  },
  {
   "cell_type": "code",
   "execution_count": null,
   "metadata": {},
   "outputs": [],
   "source": [
    "type(r), r.shape"
   ]
  },
  {
   "cell_type": "code",
   "execution_count": null,
   "metadata": {},
   "outputs": [],
   "source": [
    "start_coord = (params.nn_image_size - params.augmented_image_size)//2\n",
    "start_coord, r.shape "
   ]
  },
  {
   "cell_type": "code",
   "execution_count": null,
   "metadata": {},
   "outputs": [],
   "source": [
    "r_orig = r[:, start_coord : start_coord + params.augmented_image_size, start_coord : start_coord + params.augmented_image_size]"
   ]
  },
  {
   "cell_type": "code",
   "execution_count": null,
   "metadata": {},
   "outputs": [],
   "source": [
    "type(r_orig), r_orig.shape"
   ]
  },
  {
   "cell_type": "code",
   "execution_count": null,
   "metadata": {},
   "outputs": [],
   "source": [
    "r_orig[0, :,:,0].shape"
   ]
  },
  {
   "cell_type": "code",
   "execution_count": null,
   "metadata": {},
   "outputs": [],
   "source": [
    "valid_results = []\n",
    "for i in range(r.shape[0]):\n",
    "    valid_results += [cv2.resize(r_orig[i, :,:,0], (101,101))]"
   ]
  },
  {
   "cell_type": "code",
   "execution_count": null,
   "metadata": {},
   "outputs": [],
   "source": [
    "validate_masks[0].shape, valid_results[0].shape"
   ]
  },
  {
   "cell_type": "code",
   "execution_count": null,
   "metadata": {},
   "outputs": [],
   "source": [
    "m = iou_metric_batch(validate_masks[:len(valid_results)], valid_results)\n",
    "print(m)"
   ]
  },
  {
   "cell_type": "code",
   "execution_count": null,
   "metadata": {},
   "outputs": [],
   "source": []
  },
  {
   "cell_type": "code",
   "execution_count": null,
   "metadata": {},
   "outputs": [],
   "source": [
    "from skimage.io import imread, imshow, concatenate_images\n",
    "from skimage.transform import resize\n",
    "from skimage.morphology import label\n",
    "import os\n",
    "import glob\n",
    "import cv2\n",
    "import matplotlib.pyplot as plt\n",
    "from matplotlib.pyplot import imshow\n",
    "from PIL import Image\n",
    "%matplotlib inline"
   ]
  },
  {
   "cell_type": "code",
   "execution_count": null,
   "metadata": {},
   "outputs": [],
   "source": [
    "n = 20\n",
    "plt.figure(figsize=(20,4*n))\n",
    "for img_no in range(n):\n",
    "    img_i = validate_images[img_no]\n",
    "    mask_i = validate_masks[img_no]\n",
    "    plt.subplot(n, 2, 2*img_no+1)\n",
    "    imshow(img_i)\n",
    "    plt.subplot(n, 2, 2*img_no+2)\n",
    "    imshow(mask_i)\n",
    "    #imshow(mask.reshape(mask.shape[:-1]))# , cmap='gray'\n"
   ]
  },
  {
   "cell_type": "markdown",
   "metadata": {},
   "source": [
    "# Single model output"
   ]
  },
  {
   "cell_type": "code",
   "execution_count": null,
   "metadata": {},
   "outputs": [],
   "source": [
    "def PredictByTiles(imgs, n):\n",
    "    '''\n",
    "    imgs of size (303x303x3)\n",
    "    n  - tiles are n*n\n",
    "    -> mask (303x303, float)\n",
    "    '''\n",
    "    np_imgs = np.array(imgs)\n",
    "    print (np_imgs.shape)\n",
    "    mask_enlarged = np.zeros(np.array(imgs).shape[:-1], dtype = np.float32)\n",
    "    mask_counters = np.zeros(np.array(imgs).shape[:-1], dtype = np.int)\n",
    "    if n>1:\n",
    "        hstep = (augmented_image_size - nn_image_size)//(n-1)\n",
    "        vstep = (augmented_image_size - nn_image_size)//(n-1)\n",
    "    for i in range(n):\n",
    "        top = i*vstep if i != n-1 else augmented_image_size-nn_image_size\n",
    "        for j in range(n):\n",
    "            left = j*hstep if j != n-1 else augmented_image_size-nn_image_size\n",
    "            sub_imgs = np_imgs[:, top:top+nn_image_size, left:left+nn_image_size, :]\n",
    "            print (sub_imgs.shape, i, j)\n",
    "            predicts = model.predict(sub_imgs).reshape(-1, sub_imgs.shape[1], sub_imgs.shape[2])\n",
    "            sub_mask = mask_enlarged[:, top:top+nn_image_size, left:left+nn_image_size]\n",
    "            sub_mask_counters = mask_counters[:, top:top+nn_image_size, left:left+nn_image_size]\n",
    "            assert sub_mask.shape == predicts.shape\n",
    "            assert sub_mask_counters.shape == predicts.shape\n",
    "            sub_mask += predicts\n",
    "            sub_mask_counters += 1\n",
    "    if n>1:\n",
    "        mask_enlarged = np.divide(mask_enlarged, mask_counters)\n",
    "    return mask_enlarged\n",
    "    "
   ]
  },
  {
   "cell_type": "code",
   "execution_count": null,
   "metadata": {},
   "outputs": [],
   "source": [
    "def PredictByTilesAndFlip(df_enlarge, n):\n",
    "    mask_float =      PredictByTiles(df_enlarge, n)\n",
    "    \n",
    "    df_enlarge_flip = [np.fliplr(x) for x in df_enlarge]\n",
    "    mask_float_flip = PredictByTiles(df_enlarge_flip, n)\n",
    "    mask_float = 0.5*(mask_float + np.array([np.fliplr(a) for a in mask_float_flip]))\n",
    "    is_empty_imgs = [np.sum(x) == 0 for x in df_enlarge]\n",
    "    mask_float[is_empty_imgs,...] = 0\n",
    "    \n",
    "    return mask_float"
   ]
  },
  {
   "cell_type": "code",
   "execution_count": null,
   "metadata": {},
   "outputs": [],
   "source": [
    "def Predict(df, n = 2, threshold=0.5):\n",
    "    df_enlarge = [cv2.resize((x - mean_val)/mean_std, (augmented_image_size, augmented_image_size)) for x in df]\n",
    "    mask_float = PredictByTilesAndFlip(df_enlarge, n)\n",
    "    mask_ori = [cv2.resize(np.array(filter_image(img),dtype = np.float32), df[0].shape[:2]) for img in mask_float > threshold]\n",
    "    return mask_ori"
   ]
  },
  {
   "cell_type": "code",
   "execution_count": null,
   "metadata": {},
   "outputs": [],
   "source": [
    "df = validate_images\n",
    "# enlarge and normalize\n",
    "df_enlarge = [cv2.resize((x - mean_val)/mean_std, (augmented_image_size, augmented_image_size)) for x in df]\n",
    "n = 2"
   ]
  },
  {
   "cell_type": "code",
   "execution_count": null,
   "metadata": {},
   "outputs": [],
   "source": [
    "mask_float = PredictByTilesAndFlip(df_enlarge, n)\n"
   ]
  },
  {
   "cell_type": "code",
   "execution_count": null,
   "metadata": {},
   "outputs": [],
   "source": [
    "del df_enlarge"
   ]
  },
  {
   "cell_type": "code",
   "execution_count": null,
   "metadata": {},
   "outputs": [],
   "source": [
    "import gc\n",
    "gc.collect()"
   ]
  },
  {
   "cell_type": "code",
   "execution_count": null,
   "metadata": {},
   "outputs": [],
   "source": [
    "if n==1:\n",
    "    validate_masks = [cv2.resize(cv2.resize(x,(303,303))[:224,:224], (101,101)) for x in validate_masks]"
   ]
  },
  {
   "cell_type": "code",
   "execution_count": null,
   "metadata": {},
   "outputs": [],
   "source": [
    "if n==1:\n",
    "    mask_float = [cv2.resize(cv2.resize(x,(303,303))[:224,:224], (101,101)) for x in mask_float]"
   ]
  },
  {
   "cell_type": "code",
   "execution_count": null,
   "metadata": {},
   "outputs": [],
   "source": []
  },
  {
   "cell_type": "code",
   "execution_count": null,
   "metadata": {},
   "outputs": [],
   "source": [
    "def filter_image(img):\n",
    "    if img.sum() < 100:\n",
    "        return np.zeros(img.shape)\n",
    "    else:\n",
    "        return img"
   ]
  },
  {
   "cell_type": "code",
   "execution_count": null,
   "metadata": {},
   "outputs": [],
   "source": [
    "## Scoring for last model\n",
    "thresholds = np.linspace(0.3, 0.7, 31)\n",
    "ious = np.array([iou_metric_batch(validate_masks, [cv2.resize(np.array(filter_image(img),dtype = np.float32), validate_masks[0].shape) for img in mask_float > threshold]) for threshold in tqdm_notebook(thresholds)])\n"
   ]
  },
  {
   "cell_type": "code",
   "execution_count": null,
   "metadata": {},
   "outputs": [],
   "source": [
    "threshold_best_index = np.argmax(ious) \n",
    "iou_best = ious[threshold_best_index]\n",
    "threshold_best = thresholds[threshold_best_index]\n",
    "\n",
    "plt.plot(thresholds, ious)\n",
    "plt.plot(threshold_best, iou_best, \"xr\", label=\"Best threshold\")\n",
    "plt.xlabel(\"Threshold\")\n",
    "plt.ylabel(\"IoU\")\n",
    "plt.title(\"Threshold vs IoU ({}, {})\".format(threshold_best, iou_best))\n",
    "plt.legend()"
   ]
  },
  {
   "cell_type": "code",
   "execution_count": null,
   "metadata": {},
   "outputs": [],
   "source": [
    "threshold_best"
   ]
  },
  {
   "cell_type": "code",
   "execution_count": null,
   "metadata": {},
   "outputs": [],
   "source": [
    "def rle_encode(im):\n",
    "    pixels = im.flatten(order = 'F')\n",
    "    pixels = np.concatenate([[0], pixels, [0]])\n",
    "    runs = np.where(pixels[1:] != pixels[:-1])[0] + 1\n",
    "    runs[1::2] -= runs[::2]\n",
    "    return ' '.join(str(x) for x in runs)"
   ]
  },
  {
   "cell_type": "code",
   "execution_count": null,
   "metadata": {
    "scrolled": false
   },
   "outputs": [],
   "source": [
    "pos = 0\n",
    "step = 2000\n",
    "\n",
    "while pos < len(test_images):\n",
    "    if pos == 0:\n",
    "        preds_test = Predict(test_images[pos:pos+step], n = n, threshold = threshold_best)\n",
    "    else:\n",
    "        preds_test += Predict(test_images[pos:pos+step], n = n, threshold = threshold_best)\n",
    "    pos = pos+step\n",
    "    print(len(preds_test))"
   ]
  },
  {
   "cell_type": "code",
   "execution_count": null,
   "metadata": {},
   "outputs": [],
   "source": [
    "len(preds_test)"
   ]
  },
  {
   "cell_type": "code",
   "execution_count": null,
   "metadata": {},
   "outputs": [],
   "source": [
    "import time\n",
    "t1 = time.time()\n",
    "pred_dict = {idx: rle_encode(filter_image(preds_test[i] > threshold_best)) for i, idx in enumerate(tqdm_notebook(test_df.index.values))}\n",
    "t2 = time.time()\n",
    "\n",
    "print(f\"Usedtime = {t2-t1} s\")"
   ]
  },
  {
   "cell_type": "code",
   "execution_count": null,
   "metadata": {},
   "outputs": [],
   "source": [
    "sub = pd.DataFrame.from_dict(pred_dict,orient='index')\n",
    "sub.index.names = ['id']\n",
    "sub.columns = ['rle_mask']\n",
    "sub.to_csv(model_out_file+'.submission.csv.gz', compression = 'gzip')"
   ]
  },
  {
   "cell_type": "code",
   "execution_count": null,
   "metadata": {},
   "outputs": [],
   "source": [
    "sub.head(10)"
   ]
  },
  {
   "cell_type": "code",
   "execution_count": null,
   "metadata": {},
   "outputs": [],
   "source": [
    "preds_test2 = filter_image(preds_test > threshold_best)\n",
    "test_df['pred']= None\n",
    "for i, idx in enumerate(tqdm_notebook(test_df.index.values)\n",
    "    test_df.loc[idx, 'pred'] = preds_test2[i]\n"
   ]
  },
  {
   "cell_type": "code",
   "execution_count": null,
   "metadata": {},
   "outputs": [],
   "source": [
    "preds_test.shape, preds_test2.shape"
   ]
  }
 ],
 "metadata": {
  "kernelspec": {
   "display_name": "Python 3",
   "language": "python",
   "name": "python3"
  },
  "language_info": {
   "codemirror_mode": {
    "name": "ipython",
    "version": 3
   },
   "file_extension": ".py",
   "mimetype": "text/x-python",
   "name": "python",
   "nbconvert_exporter": "python",
   "pygments_lexer": "ipython3",
   "version": "3.6.4"
  }
 },
 "nbformat": 4,
 "nbformat_minor": 2
}
