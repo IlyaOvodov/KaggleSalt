{
 "cells": [
  {
   "cell_type": "markdown",
   "metadata": {},
   "source": [
    "# Params"
   ]
  },
  {
   "cell_type": "code",
   "execution_count": null,
   "metadata": {},
   "outputs": [],
   "source": [
    "params = {\n",
    "'seed' : 241075,\n",
    "'model' : 'FNN',\n",
    "'backbone' : 'resnet34',\n",
    "'initial_weightns' : 'imagenet',\n",
    "'optimizer' : 'adam',\n",
    "'augmented_image_size' : 128,\n",
    "'nn_image_size' : 128,\n",
    "'channels' : 3,\n",
    "\n",
    "'epochs_warmup' : 2,\n",
    "'epochs' : 250,\n",
    "'batch_size' : 20,\n",
    "'test_batch_size' : 50,\n",
    "    \n",
    "'ReduceLROnPlateau' : {\n",
    "        'factor' : 0.5,\n",
    "        'patience' : 10,\n",
    "        'min_lr' : 1e-6,\n",
    "    },\n",
    "'EarlyStopping' : {'patience': 50},\n",
    "\n",
    "'test_fold_no' : 1,\n",
    "\n",
    "'attempt' : 0\n",
    "}\n",
    "params = type(\"params\", (object,), params)"
   ]
  },
  {
   "cell_type": "code",
   "execution_count": null,
   "metadata": {},
   "outputs": [],
   "source": [
    "from run_seg_test import RunTest"
   ]
  },
  {
   "cell_type": "code",
   "execution_count": null,
   "metadata": {},
   "outputs": [],
   "source": [
    "kSizes = [(336,224), (303,224), (224,224), (128,128), (101,96)]"
   ]
  },
  {
   "cell_type": "code",
   "execution_count": null,
   "metadata": {
    "scrolled": false
   },
   "outputs": [],
   "source": [
    "for sz in kSizes:\n",
    "    params.augmented_image_size = sz[0]\n",
    "    params.nn_image_size = sz[1]\n",
    "    RunTest(params)"
   ]
  },
  {
   "cell_type": "code",
   "execution_count": null,
   "metadata": {},
   "outputs": [],
   "source": [
    "params.ReduceLROnPlateau['factor'] = 0.2\n",
    "params.ReduceLROnPlateau['patience'] = 20\n"
   ]
  },
  {
   "cell_type": "code",
   "execution_count": null,
   "metadata": {},
   "outputs": [],
   "source": [
    "for sz in kSizes:\n",
    "    params.augmented_image_size = sz[0]\n",
    "    params.nn_image_size = sz[1]\n",
    "    RunTest(params)"
   ]
  }
 ],
 "metadata": {
  "kernelspec": {
   "display_name": "Python 3",
   "language": "python",
   "name": "python3"
  },
  "language_info": {
   "codemirror_mode": {
    "name": "ipython",
    "version": 3
   },
   "file_extension": ".py",
   "mimetype": "text/x-python",
   "name": "python",
   "nbconvert_exporter": "python",
   "pygments_lexer": "ipython3",
   "version": "3.6.4"
  }
 },
 "nbformat": 4,
 "nbformat_minor": 2
}
