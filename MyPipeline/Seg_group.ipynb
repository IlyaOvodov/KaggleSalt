{
 "cells": [
  {
   "cell_type": "markdown",
   "metadata": {},
   "source": [
    "# Params"
   ]
  },
  {
   "cell_type": "code",
   "execution_count": null,
   "metadata": {},
   "outputs": [],
   "source": [
    "baseline_params_file = '../../../Kaggle_Data/Salt/results/models_4/FPN_224_f1_f5d73b'\n",
    "model_no = '.24'\n",
    "model_name_template_0  = '../../../Kaggle_Data/Salt/results/models_4/FPN_224_Lz'\n",
    "model_name_template = model_name_template_0"
   ]
  },
  {
   "cell_type": "code",
   "execution_count": null,
   "metadata": {},
   "outputs": [],
   "source": [
    "from run_seg_test import LoadModelParams, RunTest"
   ]
  },
  {
   "cell_type": "code",
   "execution_count": null,
   "metadata": {},
   "outputs": [],
   "source": [
    "params = LoadModelParams(baseline_params_file)"
   ]
  },
  {
   "cell_type": "code",
   "execution_count": null,
   "metadata": {
    "scrolled": true
   },
   "outputs": [],
   "source": [
    "params.load_model_from = baseline_params_file+model_no+'.model'\n",
    "params.loss = 'bce_lavazs_loss'\n",
    "params.epochs_warmup = 0\n",
    "params.epochs=200\n",
    "RunTest(params, model_name_template=model_name_template)"
   ]
  }
 ],
 "metadata": {
  "kernelspec": {
   "display_name": "Python 3",
   "language": "python",
   "name": "python3"
  },
  "language_info": {
   "codemirror_mode": {
    "name": "ipython",
    "version": 3
   },
   "file_extension": ".py",
   "mimetype": "text/x-python",
   "name": "python",
   "nbconvert_exporter": "python",
   "pygments_lexer": "ipython3",
   "version": "3.6.4"
  }
 },
 "nbformat": 4,
 "nbformat_minor": 2
}
