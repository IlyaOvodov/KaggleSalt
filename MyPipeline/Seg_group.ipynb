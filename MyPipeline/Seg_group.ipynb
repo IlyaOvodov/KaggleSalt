{
 "cells": [
  {
   "cell_type": "markdown",
   "metadata": {},
   "source": [
    "# Params"
   ]
  },
  {
   "cell_type": "code",
   "execution_count": null,
   "metadata": {},
   "outputs": [],
   "source": [
    "params = {\n",
    "'seed' : 241075,\n",
    "'model' : 'FNN',\n",
    "'backbone' : 'resnet34',\n",
    "'initial_weightns' : 'imagenet',\n",
    "'optimizer' : 'adam',\n",
    "'augmented_image_size' : 128,\n",
    "'nn_image_size' : 128,\n",
    "'channels' : 3,\n",
    "'coord_conv' : False, # default False. CoordinatesConv layers (R and B channels)\n",
    "'norm_sigma_k' : 1.,\n",
    "\n",
    "'load_model_from' : None, #'models_1/FNN_resnet34_adam_960x544_f1_9e2580.model',\n",
    "    \n",
    "'train_augmentation_mode': 'basic',\n",
    "'test_augmentation_mode': 'basic',\n",
    "    \n",
    "'epochs_warmup' : 2,\n",
    "'epochs' : 250,\n",
    "'batch_size' : 20,\n",
    "'test_batch_size' : 50,\n",
    "\n",
    "'monitor_metric' : ('val_my_iou_metric','max'), # default 'val_my_iou_metric'\n",
    "    \n",
    "'ReduceLROnPlateau' : {\n",
    "        'factor' : 0.5,\n",
    "        'patience' : 10,\n",
    "        'min_lr' : 1e-6,\n",
    "    },\n",
    "'EarlyStopping' : {'patience': 50},\n",
    "\n",
    "'test_fold_no' : 1,\n",
    "\n",
    "'attempt' : 0,\n",
    "'comment' : '',\n",
    "}\n",
    "params = type(\"params\", (object,), params)"
   ]
  },
  {
   "cell_type": "code",
   "execution_count": null,
   "metadata": {},
   "outputs": [],
   "source": [
    "from run_seg_test import RunTest"
   ]
  },
  {
   "cell_type": "code",
   "execution_count": null,
   "metadata": {},
   "outputs": [],
   "source": [
    "kSizes = [(128,128), (192,128), (224,224), (336,224), ]"
   ]
  },
  {
   "cell_type": "code",
   "execution_count": null,
   "metadata": {},
   "outputs": [],
   "source": []
  },
  {
   "cell_type": "code",
   "execution_count": null,
   "metadata": {},
   "outputs": [],
   "source": [
    "for sz in kSizes:\n",
    "    params.augmented_image_size = sz[0]\n",
    "    params.nn_image_size = sz[1]\n",
    "    RunTest(params)"
   ]
  }
 ],
 "metadata": {
  "kernelspec": {
   "display_name": "Python 3",
   "language": "python",
   "name": "python3"
  },
  "language_info": {
   "codemirror_mode": {
    "name": "ipython",
    "version": 3
   },
   "file_extension": ".py",
   "mimetype": "text/x-python",
   "name": "python",
   "nbconvert_exporter": "python",
   "pygments_lexer": "ipython3",
   "version": "3.6.4"
  }
 },
 "nbformat": 4,
 "nbformat_minor": 2
}
