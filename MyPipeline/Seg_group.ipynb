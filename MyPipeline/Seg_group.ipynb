{
 "cells": [
  {
   "cell_type": "markdown",
   "metadata": {},
   "source": [
    "# Params"
   ]
  },
  {
   "cell_type": "code",
   "execution_count": 1,
   "metadata": {},
   "outputs": [],
   "source": [
    "baseline_params_file = '../../../Kaggle_Data/Salt/results/models_4/FPN_224_Lz_pseudo_f3_8622ce'\n",
    "model_no = '.6'\n",
    "model_name_template_0  = '../../../Kaggle_Data/Salt/results/models_5/FPN_224_Lz_relu0_top'\n",
    "model_name_template = model_name_template_0"
   ]
  },
  {
   "cell_type": "code",
   "execution_count": 2,
   "metadata": {},
   "outputs": [
    {
     "name": "stderr",
     "output_type": "stream",
     "text": [
      "c:\\miniconda3\\lib\\site-packages\\h5py\\__init__.py:36: FutureWarning: Conversion of the second argument of issubdtype from `float` to `np.floating` is deprecated. In future, it will be treated as `np.float64 == np.dtype(float).type`.\n",
      "  from ._conv import register_converters as _register_converters\n",
      "Using TensorFlow backend.\n"
     ]
    },
    {
     "name": "stdout",
     "output_type": "stream",
     "text": [
      "Old Keras 2.2.2\n",
      "UpSampling2DLayerClass <class 'segmentation_models.fpn.layers.UpSampling2D'>\n"
     ]
    }
   ],
   "source": [
    "from run_seg_test import LoadModelParams, RunTest"
   ]
  },
  {
   "cell_type": "code",
   "execution_count": 3,
   "metadata": {},
   "outputs": [
    {
     "name": "stdout",
     "output_type": "stream",
     "text": [
      "{\n",
      "'seed' : 241078,\n",
      "'model' : 'FNN',\n",
      "'backbone' : 'resnet34',\n",
      "'initial_weightns' : 'imagenet',\n",
      "'optimizer' : 'sgd',\n",
      "'optimizer_params' : {'momentum': 0.9, 'nesterov': True},\n",
      "'cosine_annealing_params' : {'min_lr': 1e-05, 'max_lr': 0.02, 'period': 20, 'verbose': 1},\n",
      "'augmented_image_size' : 202,\n",
      "'padded_image_size' : 336,\n",
      "'nn_image_size' : 224,\n",
      "'channels' : 3,\n",
      "'coord_conv' : False,\n",
      "'norm_sigma_k' : 1.0,\n",
      "'load_model_from' : '../../../Kaggle_Data/Salt/results/models_4/FPN_224_Lz_f3_95f8f4.5.model',\n",
      "'train_augmentation_mode' : 'basic',\n",
      "'test_augmentation_mode' : 'inference',\n",
      "'epochs_warmup' : 0,\n",
      "'epochs' : 300,\n",
      "'batch_size' : 20,\n",
      "'test_batch_size' : 50,\n",
      "'monitor_metric' : ('val_my_iou_metric', 'max'),\n",
      "'ReduceLROnPlateau' : {'factor': 0.5, 'patience': 10, 'min_lr': 1e-05},\n",
      "'EarlyStopping' : {'patience': 50},\n",
      "'test_fold_no' : 3,\n",
      "'attempt' : 0,\n",
      "'comment' : '',\n",
      "'dropout' : 0.3,\n",
      "'model_params' : {},\n",
      "'loss' : 'bce_lavazs_loss',\n",
      "'use_pseudo_labeling' : True,\n",
      "}\n",
      "\n"
     ]
    }
   ],
   "source": [
    "params = LoadModelParams(baseline_params_file)"
   ]
  },
  {
   "cell_type": "code",
   "execution_count": null,
   "metadata": {
    "scrolled": false
   },
   "outputs": [
    {
     "name": "stdout",
     "output_type": "stream",
     "text": [
      "(3920, 9) (18000, 1) (22000, 1)\n"
     ]
    },
    {
     "data": {
      "application/vnd.jupyter.widget-view+json": {
       "model_id": "153a702c1b304b588caa947ab30d04c2",
       "version_major": 2,
       "version_minor": 0
      },
      "text/html": [
       "<p>Failed to display Jupyter Widget of type <code>HBox</code>.</p>\n",
       "<p>\n",
       "  If you're reading this message in the Jupyter Notebook or JupyterLab Notebook, it may mean\n",
       "  that the widgets JavaScript is still loading. If this message persists, it\n",
       "  likely means that the widgets JavaScript library is either not installed or\n",
       "  not enabled. See the <a href=\"https://ipywidgets.readthedocs.io/en/stable/user_install.html\">Jupyter\n",
       "  Widgets Documentation</a> for setup instructions.\n",
       "</p>\n",
       "<p>\n",
       "  If you're reading this message in another frontend (for example, a static\n",
       "  rendering on GitHub or <a href=\"https://nbviewer.jupyter.org/\">NBViewer</a>),\n",
       "  it may mean that your frontend doesn't currently support widgets.\n",
       "</p>\n"
      ],
      "text/plain": [
       "HBox(children=(IntProgress(value=0, max=3920), HTML(value='')))"
      ]
     },
     "metadata": {},
     "output_type": "display_data"
    },
    {
     "name": "stdout",
     "output_type": "stream",
     "text": [
      "\n"
     ]
    },
    {
     "data": {
      "application/vnd.jupyter.widget-view+json": {
       "model_id": "7ed62183c4844caaad83bc545708a8b4",
       "version_major": 2,
       "version_minor": 0
      },
      "text/html": [
       "<p>Failed to display Jupyter Widget of type <code>HBox</code>.</p>\n",
       "<p>\n",
       "  If you're reading this message in the Jupyter Notebook or JupyterLab Notebook, it may mean\n",
       "  that the widgets JavaScript is still loading. If this message persists, it\n",
       "  likely means that the widgets JavaScript library is either not installed or\n",
       "  not enabled. See the <a href=\"https://ipywidgets.readthedocs.io/en/stable/user_install.html\">Jupyter\n",
       "  Widgets Documentation</a> for setup instructions.\n",
       "</p>\n",
       "<p>\n",
       "  If you're reading this message in another frontend (for example, a static\n",
       "  rendering on GitHub or <a href=\"https://nbviewer.jupyter.org/\">NBViewer</a>),\n",
       "  it may mean that your frontend doesn't currently support widgets.\n",
       "</p>\n"
      ],
      "text/plain": [
       "HBox(children=(IntProgress(value=0, max=3920), HTML(value='')))"
      ]
     },
     "metadata": {},
     "output_type": "display_data"
    },
    {
     "name": "stdout",
     "output_type": "stream",
     "text": [
      "\n"
     ]
    },
    {
     "name": "stderr",
     "output_type": "stream",
     "text": [
      "c:\\miniconda3\\lib\\site-packages\\tensorflow\\python\\ops\\gradients_impl.py:108: UserWarning: Converting sparse IndexedSlices to a dense Tensor of unknown shape. This may consume a large amount of memory.\n",
      "  \"Converting sparse IndexedSlices to a dense Tensor of unknown shape. \"\n"
     ]
    },
    {
     "name": "stdout",
     "output_type": "stream",
     "text": [
      "MODEL LOADED from: ../../../Kaggle_Data/Salt/results/models_4/FPN_224_Lz_pseudo_f3_8622ce.6.model\n"
     ]
    }
   ],
   "source": [
    "params.load_model_from = baseline_params_file+model_no+'.model'\n",
    "params.create_and_load_weights = True\n",
    "params.stop_load_weights_on = 'add_19'\n",
    "params.freeze_loaded_weights = True\n",
    "\n",
    "params.loss = 'binary_crossentropy'\n",
    "params.use_pseudo_labeling = False\n",
    "params.cosine_annealing_params = {'min_lr': 1e-05, 'max_lr': 0.01, 'period': 20, 'verbose': 1}\n",
    "params.kernel_constraint_norm=3\n",
    "params.epochs = 100\n",
    "\n",
    "params.model_params = {'fpn_layers': ('stage4_unit1_relu1', 'stage3_unit1_relu1', 'stage2_unit1_relu1', 'relu0'), 'upsample_rates': (2, 2, 2, 2), 'last_upsample': 2}\n",
    "RunTest(params, model_name_template=model_name_template)"
   ]
  },
  {
   "cell_type": "code",
   "execution_count": null,
   "metadata": {},
   "outputs": [],
   "source": []
  },
  {
   "cell_type": "code",
   "execution_count": null,
   "metadata": {},
   "outputs": [],
   "source": [
    "baseline_params_file = '../../../Kaggle_Data/Salt/results/models_4/FPN_224_Lz_pseudo_f1_b19bb1'\n",
    "model_no = '.9'\n",
    "model_name_template_0  = '../../../Kaggle_Data/Salt/results/models_5/FPN_224_Lz_relu0_top'\n",
    "model_name_template = model_name_template_0\n",
    "\n",
    "from run_seg_test import LoadModelParams, RunTest\n",
    "params = LoadModelParams(baseline_params_file)\n",
    "params.load_model_from = baseline_params_file+model_no+'.model'\n",
    "params.create_and_load_weights = True\n",
    "params.stop_load_weights_on = 'add_19'\n",
    "params.freeze_loaded_weights = True\n",
    "\n",
    "params.loss = 'binary_crossentropy'\n",
    "params.use_pseudo_labeling = False\n",
    "params.cosine_annealing_params = {'min_lr': 1e-05, 'max_lr': 0.01, 'period': 20, 'verbose': 1}\n",
    "params.kernel_constraint_norm=3\n",
    "params.epochs = 100\n",
    "\n",
    "params.model_params = {'fpn_layers': ('stage4_unit1_relu1', 'stage3_unit1_relu1', 'stage2_unit1_relu1', 'relu0'), 'upsample_rates': (2, 2, 2, 2), 'last_upsample': 2}\n",
    "RunTest(params, model_name_template=model_name_template)"
   ]
  },
  {
   "cell_type": "code",
   "execution_count": null,
   "metadata": {},
   "outputs": [],
   "source": [
    "baseline_params_file = '../../../Kaggle_Data/Salt/results/models_4/FPN_224_Lz_pseudo_f0_91bfa1'\n",
    "model_no = '.6'\n",
    "model_name_template_0  = '../../../Kaggle_Data/Salt/results/models_5/FPN_224_Lz_relu0_top'\n",
    "model_name_template = model_name_template_0\n",
    "\n",
    "from run_seg_test import LoadModelParams, RunTest\n",
    "params = LoadModelParams(baseline_params_file)\n",
    "params.load_model_from = baseline_params_file+model_no+'.model'\n",
    "params.create_and_load_weights = True\n",
    "params.stop_load_weights_on = 'add_19'\n",
    "params.freeze_loaded_weights = True\n",
    "\n",
    "params.loss = 'binary_crossentropy'\n",
    "params.use_pseudo_labeling = False\n",
    "params.cosine_annealing_params = {'min_lr': 1e-05, 'max_lr': 0.01, 'period': 20, 'verbose': 1}\n",
    "params.kernel_constraint_norm=3\n",
    "params.epochs = 100\n",
    "\n",
    "params.model_params = {'fpn_layers': ('stage4_unit1_relu1', 'stage3_unit1_relu1', 'stage2_unit1_relu1', 'relu0'), 'upsample_rates': (2, 2, 2, 2), 'last_upsample': 2}\n",
    "RunTest(params, model_name_template=model_name_template)"
   ]
  }
 ],
 "metadata": {
  "kernelspec": {
   "display_name": "Python 3",
   "language": "python",
   "name": "python3"
  },
  "language_info": {
   "codemirror_mode": {
    "name": "ipython",
    "version": 3
   },
   "file_extension": ".py",
   "mimetype": "text/x-python",
   "name": "python",
   "nbconvert_exporter": "python",
   "pygments_lexer": "ipython3",
   "version": "3.6.4"
  }
 },
 "nbformat": 4,
 "nbformat_minor": 2
}
