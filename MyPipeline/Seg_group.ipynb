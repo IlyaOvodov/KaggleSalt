{
 "cells": [
  {
   "cell_type": "markdown",
   "metadata": {},
   "source": [
    "# Params"
   ]
  },
  {
   "cell_type": "code",
   "execution_count": null,
   "metadata": {},
   "outputs": [],
   "source": [
    "params = {\n",
    "'seed' : 241075,\n",
    "'model' : 'FNN',\n",
    "'backbone' : 'resnet34',\n",
    "'initial_weightns' : 'imagenet',\n",
    "'dropout': 0.3,\n",
    "'interpolation' : 'nearest',#'bilinear',\n",
    "'optimizer' : 'sgd',\n",
    "'optimizer_params' : {'momentum': 0.9, 'nesterov': True},\n",
    "'cosine_annealing_params' : {'min_lr': 1e-05, 'max_lr': 0.02, 'period': 20, 'verbose': 1},\n",
    "'augmented_image_size' : 101,\n",
    "'padded_image_size' : 192,\n",
    "'nn_image_size' : 128,\n",
    "'channels' : 3,\n",
    "'coord_conv' : False,\n",
    "'norm_sigma_k' : 1.0,\n",
    "'load_model_from' : None,\n",
    "'train_augmentation_mode' : 'basic',\n",
    "'test_augmentation_mode' : 'inference',\n",
    "'epochs_warmup' : 2,\n",
    "'epochs' : 300,\n",
    "'batch_size' : 20,\n",
    "'test_batch_size' : 50,\n",
    "'monitor_metric' : ('val_my_iou_metric', 'max'),\n",
    "'ReduceLROnPlateau' : {'factor': 0.5, 'patience': 10, 'min_lr': 1e-05},\n",
    "'EarlyStopping' : {'patience': 50},\n",
    "'test_fold_no' : 1,\n",
    "'attempt' : 0,\n",
    "'comment' : '',\n",
    "}\n",
    "params = type(\"params\", (object,), params)"
   ]
  },
  {
   "cell_type": "code",
   "execution_count": null,
   "metadata": {},
   "outputs": [],
   "source": [
    "from run_seg_test import RunTest"
   ]
  },
  {
   "cell_type": "code",
   "execution_count": null,
   "metadata": {},
   "outputs": [],
   "source": [
    "kSizes = [(101,192,128), ] #(202,336,224),"
   ]
  },
  {
   "cell_type": "code",
   "execution_count": null,
   "metadata": {},
   "outputs": [],
   "source": [
    "params.model = 'FNNdrop'\n",
    "#params.interpolation = 'nearest' #'bilinear'"
   ]
  },
  {
   "cell_type": "code",
   "execution_count": null,
   "metadata": {
    "scrolled": false
   },
   "outputs": [],
   "source": [
    "for sz in kSizes:\n",
    "    params.augmented_image_size = sz[0]\n",
    "    params.padded_image_size = sz[1]\n",
    "    params.nn_image_size = sz[2]\n",
    "    RunTest(params)"
   ]
  },
  {
   "cell_type": "code",
   "execution_count": null,
   "metadata": {},
   "outputs": [],
   "source": []
  }
 ],
 "metadata": {
  "kernelspec": {
   "display_name": "Python 3",
   "language": "python",
   "name": "python3"
  },
  "language_info": {
   "codemirror_mode": {
    "name": "ipython",
    "version": 3
   },
   "file_extension": ".py",
   "mimetype": "text/x-python",
   "name": "python",
   "nbconvert_exporter": "python",
   "pygments_lexer": "ipython3",
   "version": "3.6.4"
  }
 },
 "nbformat": 4,
 "nbformat_minor": 2
}
