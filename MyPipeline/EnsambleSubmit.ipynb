{
 "cells": [
  {
   "cell_type": "code",
   "execution_count": null,
   "metadata": {},
   "outputs": [],
   "source": [
    "data_dir = '../../../Kaggle_Data/Salt/results/models_4/'\n",
    "result_files = [\n",
    "    ('FPN_224_Lz_f0_5cd1f7', 8, 6, 3, 9),#\n",
    "    ('FPN_224_Lz_f1_c52c07', 5, 4, 6, 3),#\n",
    "    ('FPN_224_Lz_f2_836af9', 4, 8, 3, 7),#\n",
    "    ('FPN_224_Lz_f3_95f8f4', 5, 8, 3, 10),#\n",
    "    ('FPN_224_Lz_f4_44f642', 5, 8, 9, 2) #\n",
    "   \n",
    "]\n",
    "thresholds = [ 0.5, 0.46, 0.63, 0.51 ]\n",
    "submission_file_name = data_dir+'FPN_224_Lz_f01234x4.flip'\n",
    "save_results_dir = data_dir+'/../FPN_224_results/'\n",
    "eval_crop_size = 224\n",
    "use_flip = True\n",
    "\n",
    "calc_val_test = (True, True)"
   ]
  },
  {
   "cell_type": "code",
   "execution_count": null,
   "metadata": {},
   "outputs": [],
   "source": [
    "import numpy as np\n",
    "import pandas as pd\n",
    "import os\n",
    "import load_data\n",
    "from save_results import ResultsFileName, PredictResults"
   ]
  },
  {
   "cell_type": "code",
   "execution_count": null,
   "metadata": {},
   "outputs": [],
   "source": [
    "if calc_val_test[0]:\n",
    "    train_df = load_data.LoadData(train_data = True, DEV_MODE_RANGE = 0)\n",
    "if calc_val_test[1]:\n",
    "    test_df = load_data.LoadData(train_data = False, DEV_MODE_RANGE = 0)\n",
    "    test_images = test_df.images"
   ]
  },
  {
   "cell_type": "code",
   "execution_count": null,
   "metadata": {
    "scrolled": false
   },
   "outputs": [],
   "source": [
    "total = 0\n",
    "for fold, f_arr in enumerate(result_files):\n",
    "    for j, x in enumerate(f_arr):\n",
    "        if j == 0:\n",
    "            params_file = x\n",
    "        else:\n",
    "            model = None\n",
    "            for is_test_run in [False, True]:\n",
    "                for flip in [False, True] :\n",
    "                    if flip and not use_flip:\n",
    "                        continue\n",
    "                    if not calc_val_test[is_test_run]:\n",
    "                        continue\n",
    "                    data_file = ResultsFileName(save_results_dir, params_file, x, flip, is_test_run)\n",
    "                    if not os.path.exists(data_file):\n",
    "                        data_file += '.npy'\n",
    "                    if os.path.exists(data_file):\n",
    "                        print('loading '+ data_file)\n",
    "                        r = np.load(data_file)\n",
    "                    else:\n",
    "                        print('creating ' + data_file)\n",
    "                        if is_test_run:\n",
    "                           images = test_images\n",
    "                        else:\n",
    "                           _, _, images, _ = load_data.SplitTrainData(train_df, fold)\n",
    "                        r, model = PredictResults(model, images, data_dir, params_file, x, flip, is_test_run, save_results_dir, eval_crop_size = 224)\n",
    "                    if is_test_run:\n",
    "                        if total == 0:\n",
    "                            s = r\n",
    "                        else:\n",
    "                            s += r\n",
    "                        total += 1\n",
    "                        print('done ', total)\n",
    "if total:\n",
    "    s /= total\n",
    "    "
   ]
  },
  {
   "cell_type": "code",
   "execution_count": null,
   "metadata": {},
   "outputs": [],
   "source": [
    "#threshold_best = np.mean(thresholds)\n",
    "threshold_best = 0.5\n",
    "threshold_best"
   ]
  },
  {
   "cell_type": "code",
   "execution_count": null,
   "metadata": {},
   "outputs": [],
   "source": [
    "def rle_encode(im):\n",
    "    pixels = im.flatten(order = 'F')\n",
    "    pixels = np.concatenate([[0], pixels, [0]])\n",
    "    runs = np.where(pixels[1:] != pixels[:-1])[0] + 1\n",
    "    runs[1::2] -= runs[::2]\n",
    "    return ' '.join(str(x) for x in runs)"
   ]
  },
  {
   "cell_type": "code",
   "execution_count": null,
   "metadata": {},
   "outputs": [],
   "source": [
    "if calc_val_test[1]:\n",
    "    import time\n",
    "    t1 = time.time()\n",
    "    pred_dict = {idx: rle_encode((s[i] > threshold_best)) for i, idx in enumerate(test_df.index.values)}\n",
    "    t2 = time.time()\n"
   ]
  },
  {
   "cell_type": "code",
   "execution_count": null,
   "metadata": {},
   "outputs": [],
   "source": [
    "if calc_val_test[1]:\n",
    "    sub = pd.DataFrame.from_dict(pred_dict,orient='index')\n",
    "    sub.index.names = ['id']\n",
    "    sub.columns = ['rle_mask']"
   ]
  },
  {
   "cell_type": "code",
   "execution_count": null,
   "metadata": {},
   "outputs": [],
   "source": [
    "if calc_val_test[1]:\n",
    "    submission_full_file_name = submission_file_name+'.submission.csv.gz'\n",
    "    assert not os.path.exists(submission_full_file_name)\n",
    "    sub.to_csv(submission_full_file_name, compression = 'gzip')\n",
    "    print('saved: ', submission_full_file_name)"
   ]
  },
  {
   "cell_type": "code",
   "execution_count": null,
   "metadata": {},
   "outputs": [],
   "source": []
  }
 ],
 "metadata": {
  "kernelspec": {
   "display_name": "Python 3",
   "language": "python",
   "name": "python3"
  },
  "language_info": {
   "codemirror_mode": {
    "name": "ipython",
    "version": 3
   },
   "file_extension": ".py",
   "mimetype": "text/x-python",
   "name": "python",
   "nbconvert_exporter": "python",
   "pygments_lexer": "ipython3",
   "version": "3.6.4"
  }
 },
 "nbformat": 4,
 "nbformat_minor": 2
}
