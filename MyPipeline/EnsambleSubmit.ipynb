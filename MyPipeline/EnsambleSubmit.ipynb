{
 "cells": [
  {
   "cell_type": "code",
   "execution_count": null,
   "metadata": {},
   "outputs": [],
   "source": [
    "data_dir = '../../../Kaggle_Data/Salt/results/models_4/'\n",
    "result_files = [\n",
    "    ('FPN_224_f0_84d1a7', 23,22,21,24,),\n",
    "    ('FPN_224_f1_f5d73b', 24,22,21,20,),\n",
    "    ('FPN_224_f2_0970dc', 24,11,19,21,),\n",
    "    ('FPN_224_f3_efc38c', 22,20,23,11,)\n",
    "   \n",
    "]\n",
    "thresholds = [ 0.5, 0.46, 0.63, 0.51 ]\n",
    "submission_file_name = data_dir+'FPN_224_f0123all05'\n",
    "save_results_dir = data_dir+'FPN_224_results/'\n",
    "eval_crop_size = 224"
   ]
  },
  {
   "cell_type": "code",
   "execution_count": null,
   "metadata": {},
   "outputs": [],
   "source": [
    "import numpy as np\n",
    "import pandas as pd\n",
    "import os\n",
    "import load_data\n",
    "from save_results import ResultsFileName, PredictResults"
   ]
  },
  {
   "cell_type": "code",
   "execution_count": null,
   "metadata": {},
   "outputs": [],
   "source": [
    "test_df = load_data.LoadData(train_data = False, DEV_MODE_RANGE = 0)\n",
    "test_images = test_df.images"
   ]
  },
  {
   "cell_type": "code",
   "execution_count": null,
   "metadata": {
    "scrolled": false
   },
   "outputs": [],
   "source": [
    "total = 0\n",
    "for i, f_arr in enumerate(result_files):\n",
    "    for j, x in enumerate(f_arr):\n",
    "        if j == 0:\n",
    "            params_file = x\n",
    "        else:\n",
    "            data_file = ResultsFileName(save_results_dir, params_file, x)\n",
    "            if not os.path.exists(data_file):\n",
    "                data_file += '.npy'\n",
    "            if os.path.exists(data_file):\n",
    "                print('loading '+ data_file)\n",
    "                r = np.load(data_file)\n",
    "            else:\n",
    "                print('creating ' + data_file)\n",
    "                r = PredictResults(test_images, data_dir, params_file, x, save_results_dir, eval_crop_size = 224)\n",
    "            if total == 0:\n",
    "                s = r\n",
    "            else:\n",
    "                s += r\n",
    "            total += 1\n",
    "            print('done ', total)\n",
    "s /= total\n",
    "    "
   ]
  },
  {
   "cell_type": "code",
   "execution_count": null,
   "metadata": {},
   "outputs": [],
   "source": [
    "#threshold_best = np.mean(thresholds)\n",
    "threshold_best = 0.5\n",
    "threshold_best"
   ]
  },
  {
   "cell_type": "code",
   "execution_count": null,
   "metadata": {},
   "outputs": [],
   "source": [
    "def rle_encode(im):\n",
    "    pixels = im.flatten(order = 'F')\n",
    "    pixels = np.concatenate([[0], pixels, [0]])\n",
    "    runs = np.where(pixels[1:] != pixels[:-1])[0] + 1\n",
    "    runs[1::2] -= runs[::2]\n",
    "    return ' '.join(str(x) for x in runs)"
   ]
  },
  {
   "cell_type": "code",
   "execution_count": null,
   "metadata": {},
   "outputs": [],
   "source": [
    "import time\n",
    "t1 = time.time()\n",
    "pred_dict = {idx: rle_encode((s[i] > threshold_best)) for i, idx in enumerate(test_df.index.values)}\n",
    "t2 = time.time()\n"
   ]
  },
  {
   "cell_type": "code",
   "execution_count": null,
   "metadata": {},
   "outputs": [],
   "source": [
    "sub = pd.DataFrame.from_dict(pred_dict,orient='index')\n",
    "sub.index.names = ['id']\n",
    "sub.columns = ['rle_mask']\n",
    "sub.to_csv(submission_file_name+'.submission.csv.gz', compression = 'gzip')"
   ]
  },
  {
   "cell_type": "code",
   "execution_count": null,
   "metadata": {},
   "outputs": [],
   "source": []
  }
 ],
 "metadata": {
  "kernelspec": {
   "display_name": "Python 3",
   "language": "python",
   "name": "python3"
  },
  "language_info": {
   "codemirror_mode": {
    "name": "ipython",
    "version": 3
   },
   "file_extension": ".py",
   "mimetype": "text/x-python",
   "name": "python",
   "nbconvert_exporter": "python",
   "pygments_lexer": "ipython3",
   "version": "3.6.4"
  }
 },
 "nbformat": 4,
 "nbformat_minor": 2
}
